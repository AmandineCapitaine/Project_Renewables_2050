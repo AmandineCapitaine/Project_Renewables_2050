{
 "cells": [
  {
   "cell_type": "markdown",
   "id": "9fdd54ab",
   "metadata": {},
   "source": [
    "# Projet de modélisation d'un mix énergétique issu 100% d'ENR"
   ]
  },
  {
   "cell_type": "markdown",
   "id": "1ce9465f",
   "metadata": {},
   "source": [
    "## XIV. Modelling new production profils"
   ]
  },
  {
   "cell_type": "markdown",
   "id": "c3d03071",
   "metadata": {},
   "source": [
    "### Imports"
   ]
  },
  {
   "cell_type": "code",
   "execution_count": 2,
   "id": "7dfd4cab",
   "metadata": {},
   "outputs": [],
   "source": [
    "import numpy as np \n",
    "import pandas as pd\n",
    "import matplotlib.pyplot as plt\n",
    "import plotly.graph_objects as go\n",
    "from opti_model import opti_model"
   ]
  },
  {
   "cell_type": "code",
   "execution_count": 3,
   "id": "44b9148f",
   "metadata": {},
   "outputs": [],
   "source": [
    "from typical_days import Profils_vre_datetime, Mean_std_profil_18, Array_mean_std, New_Array_mean_std, Clustering_days, Index_centers, Typical_days, Typical_year, Labels_new_year, Typical_new_year, distanceMetric, ans, Import_data\n",
    "from modelling_new_year import Decomposition, Simulate_Noise"
   ]
  },
  {
   "cell_type": "code",
   "execution_count": 4,
   "id": "1bd29978",
   "metadata": {},
   "outputs": [],
   "source": [
    "def simulating_new_year():\n",
    "\n",
    "    year = np.random.randint(0,18,1)\n",
    "    print(\"Year \" + str(2000+year))\n",
    "    profils_off, profils_on, profils_pv = Profils_vre_datetime()\n",
    "\n",
    "    for vre in ['pv', 'onshore', 'offshore']:\n",
    "\n",
    "        if vre == 'pv':\n",
    "            profils = profils_pv\n",
    "        elif vre == 'onshore':\n",
    "            profils = profils_on\n",
    "        else:\n",
    "            profils = profils_off\n",
    "\n",
    "        day_mean_18, p18 = Mean_std_profil_18(profils)\n",
    "        day_std_18, _ = Mean_std_profil_18(profils, False)\n",
    "\n",
    "        trend_mean, seasonal_mean, residual_mean = Decomposition(day_mean_18, False)\n",
    "        new_mean = Simulate_Noise(trend_mean, seasonal_mean, residual_mean, day_mean_18, False)\n",
    "        trend_std, seasonal_std, residual_std = Decomposition(day_std_18, False)\n",
    "        new_std = Simulate_Noise(trend_std, seasonal_std, residual_std, day_std_18, False)\n",
    "\n",
    "        new_daily_mean = new_mean[365*year[0]:365*(year[0]+1)]\n",
    "        new_daily_std = new_std[365*year[0]:365*(year[0]+1)]\n",
    "        new_array = New_Array_mean_std(new_daily_mean, new_daily_std)\n",
    "\n",
    "        #Profils de production moyenne et variance sur le dataset entier\n",
    "        array = Array_mean_std(day_mean_18, day_std_18)\n",
    "\n",
    "        #KMedoids clustering\n",
    "        n_clusters = 12\n",
    "        centers_existing_data, labels_existing_data = Clustering_days(array, n_clusters, metric='euclidean', verbose_plot=False)  \n",
    "        centers, labels, new_labels = Labels_new_year(array, new_array, n_clusters, 'euclidean', False)\n",
    "\n",
    "        #New year\n",
    "        typical_year = Typical_new_year(n_clusters, centers, labels, new_labels, array, p18)\n",
    "        \n",
    "        if vre == 'onshore':\n",
    "            typical_year_on = pd.DataFrame(typical_year)\n",
    "        elif vre == 'offshore':\n",
    "            typical_year_off = pd.DataFrame(typical_year)\n",
    "        else:\n",
    "            typical_year_pv = pd.DataFrame(typical_year)\n",
    "        \n",
    "    return typical_year_off, typical_year_on, typical_year_pv"
   ]
  },
  {
   "cell_type": "code",
   "execution_count": 5,
   "id": "934d3f8c",
   "metadata": {},
   "outputs": [],
   "source": [
    "def save_new_profile(typical_year_off, typical_year_on, typical_year_pv):\n",
    "    vre2006 = pd.read_csv(\"inputs/vre_profiles2006.csv\", header=None)\n",
    "    vrenew = pd.DataFrame()\n",
    "    vrenew = vre2006.copy()\n",
    "\n",
    "    typical_year_pv = pd.DataFrame(typical_year_pv)\n",
    "    typical_year_on = pd.DataFrame(typical_year_on)\n",
    "    typical_year_off = pd.DataFrame(typical_year_off)\n",
    "\n",
    "    vrenew[2].iloc[:8760] = typical_year_off[0]\n",
    "    vrenew[2].iloc[8760:17520] = typical_year_on[0]\n",
    "    vrenew[2].iloc[17520:] = typical_year_pv[0]\n",
    "    \n",
    "    return vrenew"
   ]
  },
  {
   "cell_type": "code",
   "execution_count": 6,
   "id": "94e3553e",
   "metadata": {},
   "outputs": [],
   "source": [
    "def opti_simu(Q_tec, Volume_str, S, nb_simu = 30):\n",
    "    for simu in range(nb_simu):\n",
    "        model_name = \"vrenew\"+str(simu)\n",
    "        \n",
    "        #New weather year\n",
    "        typical_year_off, typical_year_on, typical_year_pv = simulating_new_year()\n",
    "        vrenew = save_new_profile(typical_year_off, typical_year_on, typical_year_pv)\n",
    "        \n",
    "        vrenew.to_csv('inputs/'+ model_name +'.csv', header=None, index=False)\n",
    "        \n",
    "        #Simulation modèle optimal (on fixe les capacités)\n",
    "        simu0 = opti_model(Q_tec, Volume_str, S)\n",
    "        simu0.load_param(\"inputs/\", model_name+\".csv\", \"demand2050_rte.csv\")\n",
    "        simu0.run()\n",
    "        \n",
    "        res0 = simu0.write_results(\"simu\"+model_name+'.csv', model_name+\".csv\", \"demand2050_rte.csv\")"
   ]
  },
  {
   "cell_type": "code",
   "execution_count": 7,
   "id": "c1a79404",
   "metadata": {},
   "outputs": [],
   "source": [
    "col = {\"offshore\" : '#1f4e79', \"onshore\" : '#548235' , \"pv\" : \"#ffc000\", \"phs\" : \"#bdd7ee\", \"battery\" : \"#7030a0\", \"biogas\" :\"#843c0c\", \"methanation\": \"#7f6000\", \"gas\": \"grey\", \"lake\": \"#4169E1\", \"river\" : \"#09F1D3\"}\n",
    "tec = [\"offshore\",\"onshore\",\"pv\",\"river\",\"lake\",\"biogas\",\"phs\",\"battery\",\"methanation\"]\n",
    "stor = [\"phs\",\"battery\",\"methanation\"]"
   ]
  },
  {
   "cell_type": "code",
   "execution_count": 15,
   "id": "fe4f6aa1",
   "metadata": {},
   "outputs": [
    {
     "name": "stdout",
     "output_type": "stream",
     "text": [
      "Year [2007]\n"
     ]
    },
    {
     "name": "stderr",
     "output_type": "stream",
     "text": [
      "C:\\Users\\teaca\\anaconda3\\lib\\site-packages\\pandas\\core\\indexing.py:1732: SettingWithCopyWarning: \n",
      "A value is trying to be set on a copy of a slice from a DataFrame\n",
      "\n",
      "See the caveats in the documentation: https://pandas.pydata.org/pandas-docs/stable/user_guide/indexing.html#returning-a-view-versus-a-copy\n",
      "  self._setitem_single_block(indexer, value, name)\n"
     ]
    },
    {
     "name": "stdout",
     "output_type": "stream",
     "text": [
      "Technologies utilisées : ['offshore', 'onshore', 'pv', 'river', 'lake', 'biogas', 'phs', 'battery', 'methanation']\n",
      "Chargement des paramètres ...\n",
      "vrenew0.csv\n",
      "demand2050_rte.csv\n",
      "Initialisation des sets...\n",
      "Définition des variables à optimiser ...\n",
      "Ajout des contraintes ...\n",
      "Optimisation ...\n",
      "Simulation du modèle faite avec succès ! \n",
      "Ecriture des résultats ...\n"
     ]
    },
    {
     "name": "stderr",
     "output_type": "stream",
     "text": [
      "C:\\Users\\teaca\\anaconda3\\lib\\site-packages\\pandas\\core\\internals\\construction.py:540: VisibleDeprecationWarning: Creating an ndarray from ragged nested sequences (which is a list-or-tuple of lists-or-tuples-or ndarrays with different lengths or shapes) is deprecated. If you meant to do this, you must specify 'dtype=object' when creating the ndarray.\n",
      "  values = np.array([convert(v) for v in values])\n"
     ]
    },
    {
     "name": "stdout",
     "output_type": "stream",
     "text": [
      "Year [2015]\n"
     ]
    },
    {
     "name": "stderr",
     "output_type": "stream",
     "text": [
      "C:\\Users\\teaca\\anaconda3\\lib\\site-packages\\pandas\\core\\indexing.py:1732: SettingWithCopyWarning: \n",
      "A value is trying to be set on a copy of a slice from a DataFrame\n",
      "\n",
      "See the caveats in the documentation: https://pandas.pydata.org/pandas-docs/stable/user_guide/indexing.html#returning-a-view-versus-a-copy\n",
      "  self._setitem_single_block(indexer, value, name)\n"
     ]
    },
    {
     "name": "stdout",
     "output_type": "stream",
     "text": [
      "Technologies utilisées : ['offshore', 'onshore', 'pv', 'river', 'lake', 'biogas', 'phs', 'battery', 'methanation']\n",
      "Chargement des paramètres ...\n",
      "vrenew1.csv\n",
      "demand2050_rte.csv\n",
      "Initialisation des sets...\n",
      "Définition des variables à optimiser ...\n",
      "Ajout des contraintes ...\n",
      "Optimisation ...\n",
      "Simulation du modèle faite avec succès ! \n",
      "Ecriture des résultats ...\n"
     ]
    },
    {
     "name": "stderr",
     "output_type": "stream",
     "text": [
      "C:\\Users\\teaca\\anaconda3\\lib\\site-packages\\pandas\\core\\internals\\construction.py:540: VisibleDeprecationWarning: Creating an ndarray from ragged nested sequences (which is a list-or-tuple of lists-or-tuples-or ndarrays with different lengths or shapes) is deprecated. If you meant to do this, you must specify 'dtype=object' when creating the ndarray.\n",
      "  values = np.array([convert(v) for v in values])\n"
     ]
    },
    {
     "name": "stdout",
     "output_type": "stream",
     "text": [
      "Year [2005]\n"
     ]
    },
    {
     "name": "stderr",
     "output_type": "stream",
     "text": [
      "C:\\Users\\teaca\\anaconda3\\lib\\site-packages\\pandas\\core\\indexing.py:1732: SettingWithCopyWarning: \n",
      "A value is trying to be set on a copy of a slice from a DataFrame\n",
      "\n",
      "See the caveats in the documentation: https://pandas.pydata.org/pandas-docs/stable/user_guide/indexing.html#returning-a-view-versus-a-copy\n",
      "  self._setitem_single_block(indexer, value, name)\n"
     ]
    },
    {
     "name": "stdout",
     "output_type": "stream",
     "text": [
      "Technologies utilisées : ['offshore', 'onshore', 'pv', 'river', 'lake', 'biogas', 'phs', 'battery', 'methanation']\n",
      "Chargement des paramètres ...\n",
      "vrenew2.csv\n",
      "demand2050_rte.csv\n",
      "Initialisation des sets...\n",
      "Définition des variables à optimiser ...\n",
      "Ajout des contraintes ...\n",
      "Optimisation ...\n",
      "Simulation du modèle faite avec succès ! \n",
      "Ecriture des résultats ...\n"
     ]
    },
    {
     "name": "stderr",
     "output_type": "stream",
     "text": [
      "C:\\Users\\teaca\\anaconda3\\lib\\site-packages\\pandas\\core\\internals\\construction.py:540: VisibleDeprecationWarning: Creating an ndarray from ragged nested sequences (which is a list-or-tuple of lists-or-tuples-or ndarrays with different lengths or shapes) is deprecated. If you meant to do this, you must specify 'dtype=object' when creating the ndarray.\n",
      "  values = np.array([convert(v) for v in values])\n"
     ]
    },
    {
     "name": "stdout",
     "output_type": "stream",
     "text": [
      "Year [2013]\n"
     ]
    },
    {
     "name": "stderr",
     "output_type": "stream",
     "text": [
      "C:\\Users\\teaca\\anaconda3\\lib\\site-packages\\pandas\\core\\indexing.py:1732: SettingWithCopyWarning: \n",
      "A value is trying to be set on a copy of a slice from a DataFrame\n",
      "\n",
      "See the caveats in the documentation: https://pandas.pydata.org/pandas-docs/stable/user_guide/indexing.html#returning-a-view-versus-a-copy\n",
      "  self._setitem_single_block(indexer, value, name)\n"
     ]
    },
    {
     "name": "stdout",
     "output_type": "stream",
     "text": [
      "Technologies utilisées : ['offshore', 'onshore', 'pv', 'river', 'lake', 'biogas', 'phs', 'battery', 'methanation']\n",
      "Chargement des paramètres ...\n",
      "vrenew3.csv\n",
      "demand2050_rte.csv\n",
      "Initialisation des sets...\n",
      "Définition des variables à optimiser ...\n",
      "Ajout des contraintes ...\n",
      "Optimisation ...\n",
      "Simulation du modèle faite avec succès ! \n",
      "Ecriture des résultats ...\n"
     ]
    },
    {
     "name": "stderr",
     "output_type": "stream",
     "text": [
      "C:\\Users\\teaca\\anaconda3\\lib\\site-packages\\pandas\\core\\internals\\construction.py:540: VisibleDeprecationWarning: Creating an ndarray from ragged nested sequences (which is a list-or-tuple of lists-or-tuples-or ndarrays with different lengths or shapes) is deprecated. If you meant to do this, you must specify 'dtype=object' when creating the ndarray.\n",
      "  values = np.array([convert(v) for v in values])\n"
     ]
    },
    {
     "name": "stdout",
     "output_type": "stream",
     "text": [
      "Year [2003]\n"
     ]
    },
    {
     "name": "stderr",
     "output_type": "stream",
     "text": [
      "C:\\Users\\teaca\\anaconda3\\lib\\site-packages\\pandas\\core\\indexing.py:1732: SettingWithCopyWarning: \n",
      "A value is trying to be set on a copy of a slice from a DataFrame\n",
      "\n",
      "See the caveats in the documentation: https://pandas.pydata.org/pandas-docs/stable/user_guide/indexing.html#returning-a-view-versus-a-copy\n",
      "  self._setitem_single_block(indexer, value, name)\n"
     ]
    },
    {
     "name": "stdout",
     "output_type": "stream",
     "text": [
      "Technologies utilisées : ['offshore', 'onshore', 'pv', 'river', 'lake', 'biogas', 'phs', 'battery', 'methanation']\n",
      "Chargement des paramètres ...\n",
      "vrenew4.csv\n",
      "demand2050_rte.csv\n",
      "Initialisation des sets...\n",
      "Définition des variables à optimiser ...\n",
      "Ajout des contraintes ...\n",
      "Optimisation ...\n",
      "Simulation du modèle faite avec succès ! \n",
      "Ecriture des résultats ...\n"
     ]
    },
    {
     "name": "stderr",
     "output_type": "stream",
     "text": [
      "C:\\Users\\teaca\\anaconda3\\lib\\site-packages\\pandas\\core\\internals\\construction.py:540: VisibleDeprecationWarning: Creating an ndarray from ragged nested sequences (which is a list-or-tuple of lists-or-tuples-or ndarrays with different lengths or shapes) is deprecated. If you meant to do this, you must specify 'dtype=object' when creating the ndarray.\n",
      "  values = np.array([convert(v) for v in values])\n"
     ]
    },
    {
     "name": "stdout",
     "output_type": "stream",
     "text": [
      "Year [2002]\n"
     ]
    },
    {
     "name": "stderr",
     "output_type": "stream",
     "text": [
      "C:\\Users\\teaca\\anaconda3\\lib\\site-packages\\pandas\\core\\indexing.py:1732: SettingWithCopyWarning: \n",
      "A value is trying to be set on a copy of a slice from a DataFrame\n",
      "\n",
      "See the caveats in the documentation: https://pandas.pydata.org/pandas-docs/stable/user_guide/indexing.html#returning-a-view-versus-a-copy\n",
      "  self._setitem_single_block(indexer, value, name)\n"
     ]
    },
    {
     "name": "stdout",
     "output_type": "stream",
     "text": [
      "Technologies utilisées : ['offshore', 'onshore', 'pv', 'river', 'lake', 'biogas', 'phs', 'battery', 'methanation']\n",
      "Chargement des paramètres ...\n",
      "vrenew5.csv\n",
      "demand2050_rte.csv\n",
      "Initialisation des sets...\n",
      "Définition des variables à optimiser ...\n",
      "Ajout des contraintes ...\n",
      "Optimisation ...\n",
      "Simulation du modèle faite avec succès ! \n",
      "Ecriture des résultats ...\n"
     ]
    },
    {
     "name": "stderr",
     "output_type": "stream",
     "text": [
      "C:\\Users\\teaca\\anaconda3\\lib\\site-packages\\pandas\\core\\internals\\construction.py:540: VisibleDeprecationWarning: Creating an ndarray from ragged nested sequences (which is a list-or-tuple of lists-or-tuples-or ndarrays with different lengths or shapes) is deprecated. If you meant to do this, you must specify 'dtype=object' when creating the ndarray.\n",
      "  values = np.array([convert(v) for v in values])\n"
     ]
    },
    {
     "name": "stdout",
     "output_type": "stream",
     "text": [
      "Year [2016]\n"
     ]
    },
    {
     "name": "stderr",
     "output_type": "stream",
     "text": [
      "C:\\Users\\teaca\\anaconda3\\lib\\site-packages\\pandas\\core\\indexing.py:1732: SettingWithCopyWarning: \n",
      "A value is trying to be set on a copy of a slice from a DataFrame\n",
      "\n",
      "See the caveats in the documentation: https://pandas.pydata.org/pandas-docs/stable/user_guide/indexing.html#returning-a-view-versus-a-copy\n",
      "  self._setitem_single_block(indexer, value, name)\n"
     ]
    },
    {
     "name": "stdout",
     "output_type": "stream",
     "text": [
      "Technologies utilisées : ['offshore', 'onshore', 'pv', 'river', 'lake', 'biogas', 'phs', 'battery', 'methanation']\n",
      "Chargement des paramètres ...\n",
      "vrenew6.csv\n",
      "demand2050_rte.csv\n",
      "Initialisation des sets...\n",
      "Définition des variables à optimiser ...\n",
      "Ajout des contraintes ...\n",
      "Optimisation ...\n",
      "Simulation du modèle faite avec succès ! \n",
      "Ecriture des résultats ...\n"
     ]
    },
    {
     "name": "stderr",
     "output_type": "stream",
     "text": [
      "C:\\Users\\teaca\\anaconda3\\lib\\site-packages\\pandas\\core\\internals\\construction.py:540: VisibleDeprecationWarning: Creating an ndarray from ragged nested sequences (which is a list-or-tuple of lists-or-tuples-or ndarrays with different lengths or shapes) is deprecated. If you meant to do this, you must specify 'dtype=object' when creating the ndarray.\n",
      "  values = np.array([convert(v) for v in values])\n"
     ]
    },
    {
     "name": "stdout",
     "output_type": "stream",
     "text": [
      "Year [2007]\n"
     ]
    },
    {
     "name": "stderr",
     "output_type": "stream",
     "text": [
      "C:\\Users\\teaca\\anaconda3\\lib\\site-packages\\pandas\\core\\indexing.py:1732: SettingWithCopyWarning: \n",
      "A value is trying to be set on a copy of a slice from a DataFrame\n",
      "\n",
      "See the caveats in the documentation: https://pandas.pydata.org/pandas-docs/stable/user_guide/indexing.html#returning-a-view-versus-a-copy\n",
      "  self._setitem_single_block(indexer, value, name)\n"
     ]
    },
    {
     "name": "stdout",
     "output_type": "stream",
     "text": [
      "Technologies utilisées : ['offshore', 'onshore', 'pv', 'river', 'lake', 'biogas', 'phs', 'battery', 'methanation']\n",
      "Chargement des paramètres ...\n",
      "vrenew7.csv\n",
      "demand2050_rte.csv\n",
      "Initialisation des sets...\n",
      "Définition des variables à optimiser ...\n",
      "Ajout des contraintes ...\n",
      "Optimisation ...\n",
      "Simulation du modèle faite avec succès ! \n",
      "Ecriture des résultats ...\n"
     ]
    },
    {
     "name": "stderr",
     "output_type": "stream",
     "text": [
      "C:\\Users\\teaca\\anaconda3\\lib\\site-packages\\pandas\\core\\internals\\construction.py:540: VisibleDeprecationWarning: Creating an ndarray from ragged nested sequences (which is a list-or-tuple of lists-or-tuples-or ndarrays with different lengths or shapes) is deprecated. If you meant to do this, you must specify 'dtype=object' when creating the ndarray.\n",
      "  values = np.array([convert(v) for v in values])\n"
     ]
    },
    {
     "name": "stdout",
     "output_type": "stream",
     "text": [
      "Year [2012]\n"
     ]
    },
    {
     "name": "stderr",
     "output_type": "stream",
     "text": [
      "C:\\Users\\teaca\\anaconda3\\lib\\site-packages\\pandas\\core\\indexing.py:1732: SettingWithCopyWarning: \n",
      "A value is trying to be set on a copy of a slice from a DataFrame\n",
      "\n",
      "See the caveats in the documentation: https://pandas.pydata.org/pandas-docs/stable/user_guide/indexing.html#returning-a-view-versus-a-copy\n",
      "  self._setitem_single_block(indexer, value, name)\n"
     ]
    },
    {
     "name": "stdout",
     "output_type": "stream",
     "text": [
      "Technologies utilisées : ['offshore', 'onshore', 'pv', 'river', 'lake', 'biogas', 'phs', 'battery', 'methanation']\n",
      "Chargement des paramètres ...\n",
      "vrenew8.csv\n",
      "demand2050_rte.csv\n",
      "Initialisation des sets...\n",
      "Définition des variables à optimiser ...\n",
      "Ajout des contraintes ...\n",
      "Optimisation ...\n",
      "Simulation du modèle faite avec succès ! \n",
      "Ecriture des résultats ...\n"
     ]
    },
    {
     "name": "stderr",
     "output_type": "stream",
     "text": [
      "C:\\Users\\teaca\\anaconda3\\lib\\site-packages\\pandas\\core\\internals\\construction.py:540: VisibleDeprecationWarning: Creating an ndarray from ragged nested sequences (which is a list-or-tuple of lists-or-tuples-or ndarrays with different lengths or shapes) is deprecated. If you meant to do this, you must specify 'dtype=object' when creating the ndarray.\n",
      "  values = np.array([convert(v) for v in values])\n"
     ]
    },
    {
     "name": "stdout",
     "output_type": "stream",
     "text": [
      "Year [2006]\n"
     ]
    },
    {
     "name": "stderr",
     "output_type": "stream",
     "text": [
      "C:\\Users\\teaca\\anaconda3\\lib\\site-packages\\pandas\\core\\indexing.py:1732: SettingWithCopyWarning: \n",
      "A value is trying to be set on a copy of a slice from a DataFrame\n",
      "\n",
      "See the caveats in the documentation: https://pandas.pydata.org/pandas-docs/stable/user_guide/indexing.html#returning-a-view-versus-a-copy\n",
      "  self._setitem_single_block(indexer, value, name)\n"
     ]
    },
    {
     "name": "stdout",
     "output_type": "stream",
     "text": [
      "Technologies utilisées : ['offshore', 'onshore', 'pv', 'river', 'lake', 'biogas', 'phs', 'battery', 'methanation']\n",
      "Chargement des paramètres ...\n",
      "vrenew9.csv\n",
      "demand2050_rte.csv\n",
      "Initialisation des sets...\n",
      "Définition des variables à optimiser ...\n",
      "Ajout des contraintes ...\n",
      "Optimisation ...\n",
      "Simulation du modèle faite avec succès ! \n",
      "Ecriture des résultats ...\n"
     ]
    },
    {
     "name": "stderr",
     "output_type": "stream",
     "text": [
      "C:\\Users\\teaca\\anaconda3\\lib\\site-packages\\pandas\\core\\internals\\construction.py:540: VisibleDeprecationWarning: Creating an ndarray from ragged nested sequences (which is a list-or-tuple of lists-or-tuples-or ndarrays with different lengths or shapes) is deprecated. If you meant to do this, you must specify 'dtype=object' when creating the ndarray.\n",
      "  values = np.array([convert(v) for v in values])\n"
     ]
    },
    {
     "name": "stdout",
     "output_type": "stream",
     "text": [
      "Year [2001]\n"
     ]
    },
    {
     "name": "stderr",
     "output_type": "stream",
     "text": [
      "C:\\Users\\teaca\\anaconda3\\lib\\site-packages\\pandas\\core\\indexing.py:1732: SettingWithCopyWarning: \n",
      "A value is trying to be set on a copy of a slice from a DataFrame\n",
      "\n",
      "See the caveats in the documentation: https://pandas.pydata.org/pandas-docs/stable/user_guide/indexing.html#returning-a-view-versus-a-copy\n",
      "  self._setitem_single_block(indexer, value, name)\n"
     ]
    },
    {
     "name": "stdout",
     "output_type": "stream",
     "text": [
      "Technologies utilisées : ['offshore', 'onshore', 'pv', 'river', 'lake', 'biogas', 'phs', 'battery', 'methanation']\n",
      "Chargement des paramètres ...\n",
      "vrenew10.csv\n",
      "demand2050_rte.csv\n",
      "Initialisation des sets...\n",
      "Définition des variables à optimiser ...\n",
      "Ajout des contraintes ...\n",
      "Optimisation ...\n",
      "Simulation du modèle faite avec succès ! \n",
      "Ecriture des résultats ...\n"
     ]
    },
    {
     "name": "stderr",
     "output_type": "stream",
     "text": [
      "C:\\Users\\teaca\\anaconda3\\lib\\site-packages\\pandas\\core\\internals\\construction.py:540: VisibleDeprecationWarning: Creating an ndarray from ragged nested sequences (which is a list-or-tuple of lists-or-tuples-or ndarrays with different lengths or shapes) is deprecated. If you meant to do this, you must specify 'dtype=object' when creating the ndarray.\n",
      "  values = np.array([convert(v) for v in values])\n"
     ]
    },
    {
     "name": "stdout",
     "output_type": "stream",
     "text": [
      "Year [2013]\n"
     ]
    },
    {
     "name": "stderr",
     "output_type": "stream",
     "text": [
      "C:\\Users\\teaca\\anaconda3\\lib\\site-packages\\pandas\\core\\indexing.py:1732: SettingWithCopyWarning: \n",
      "A value is trying to be set on a copy of a slice from a DataFrame\n",
      "\n",
      "See the caveats in the documentation: https://pandas.pydata.org/pandas-docs/stable/user_guide/indexing.html#returning-a-view-versus-a-copy\n",
      "  self._setitem_single_block(indexer, value, name)\n"
     ]
    },
    {
     "name": "stdout",
     "output_type": "stream",
     "text": [
      "Technologies utilisées : ['offshore', 'onshore', 'pv', 'river', 'lake', 'biogas', 'phs', 'battery', 'methanation']\n",
      "Chargement des paramètres ...\n",
      "vrenew11.csv\n",
      "demand2050_rte.csv\n",
      "Initialisation des sets...\n",
      "Définition des variables à optimiser ...\n",
      "Ajout des contraintes ...\n",
      "Optimisation ...\n",
      "Simulation du modèle faite avec succès ! \n",
      "Ecriture des résultats ...\n"
     ]
    },
    {
     "name": "stderr",
     "output_type": "stream",
     "text": [
      "C:\\Users\\teaca\\anaconda3\\lib\\site-packages\\pandas\\core\\internals\\construction.py:540: VisibleDeprecationWarning: Creating an ndarray from ragged nested sequences (which is a list-or-tuple of lists-or-tuples-or ndarrays with different lengths or shapes) is deprecated. If you meant to do this, you must specify 'dtype=object' when creating the ndarray.\n",
      "  values = np.array([convert(v) for v in values])\n"
     ]
    },
    {
     "name": "stdout",
     "output_type": "stream",
     "text": [
      "Year [2005]\n"
     ]
    },
    {
     "name": "stderr",
     "output_type": "stream",
     "text": [
      "C:\\Users\\teaca\\anaconda3\\lib\\site-packages\\pandas\\core\\indexing.py:1732: SettingWithCopyWarning: \n",
      "A value is trying to be set on a copy of a slice from a DataFrame\n",
      "\n",
      "See the caveats in the documentation: https://pandas.pydata.org/pandas-docs/stable/user_guide/indexing.html#returning-a-view-versus-a-copy\n",
      "  self._setitem_single_block(indexer, value, name)\n"
     ]
    },
    {
     "name": "stdout",
     "output_type": "stream",
     "text": [
      "Technologies utilisées : ['offshore', 'onshore', 'pv', 'river', 'lake', 'biogas', 'phs', 'battery', 'methanation']\n",
      "Chargement des paramètres ...\n",
      "vrenew12.csv\n",
      "demand2050_rte.csv\n",
      "Initialisation des sets...\n",
      "Définition des variables à optimiser ...\n",
      "Ajout des contraintes ...\n",
      "Optimisation ...\n",
      "Simulation du modèle faite avec succès ! \n",
      "Ecriture des résultats ...\n"
     ]
    },
    {
     "name": "stderr",
     "output_type": "stream",
     "text": [
      "C:\\Users\\teaca\\anaconda3\\lib\\site-packages\\pandas\\core\\internals\\construction.py:540: VisibleDeprecationWarning: Creating an ndarray from ragged nested sequences (which is a list-or-tuple of lists-or-tuples-or ndarrays with different lengths or shapes) is deprecated. If you meant to do this, you must specify 'dtype=object' when creating the ndarray.\n",
      "  values = np.array([convert(v) for v in values])\n"
     ]
    },
    {
     "name": "stdout",
     "output_type": "stream",
     "text": [
      "Year [2001]\n"
     ]
    },
    {
     "name": "stderr",
     "output_type": "stream",
     "text": [
      "C:\\Users\\teaca\\anaconda3\\lib\\site-packages\\pandas\\core\\indexing.py:1732: SettingWithCopyWarning: \n",
      "A value is trying to be set on a copy of a slice from a DataFrame\n",
      "\n",
      "See the caveats in the documentation: https://pandas.pydata.org/pandas-docs/stable/user_guide/indexing.html#returning-a-view-versus-a-copy\n",
      "  self._setitem_single_block(indexer, value, name)\n"
     ]
    },
    {
     "name": "stdout",
     "output_type": "stream",
     "text": [
      "Technologies utilisées : ['offshore', 'onshore', 'pv', 'river', 'lake', 'biogas', 'phs', 'battery', 'methanation']\n",
      "Chargement des paramètres ...\n",
      "vrenew13.csv\n",
      "demand2050_rte.csv\n",
      "Initialisation des sets...\n",
      "Définition des variables à optimiser ...\n",
      "Ajout des contraintes ...\n",
      "Optimisation ...\n",
      "Simulation du modèle faite avec succès ! \n",
      "Ecriture des résultats ...\n"
     ]
    },
    {
     "name": "stderr",
     "output_type": "stream",
     "text": [
      "C:\\Users\\teaca\\anaconda3\\lib\\site-packages\\pandas\\core\\internals\\construction.py:540: VisibleDeprecationWarning: Creating an ndarray from ragged nested sequences (which is a list-or-tuple of lists-or-tuples-or ndarrays with different lengths or shapes) is deprecated. If you meant to do this, you must specify 'dtype=object' when creating the ndarray.\n",
      "  values = np.array([convert(v) for v in values])\n"
     ]
    },
    {
     "name": "stdout",
     "output_type": "stream",
     "text": [
      "Year [2014]\n"
     ]
    },
    {
     "name": "stderr",
     "output_type": "stream",
     "text": [
      "C:\\Users\\teaca\\anaconda3\\lib\\site-packages\\pandas\\core\\indexing.py:1732: SettingWithCopyWarning: \n",
      "A value is trying to be set on a copy of a slice from a DataFrame\n",
      "\n",
      "See the caveats in the documentation: https://pandas.pydata.org/pandas-docs/stable/user_guide/indexing.html#returning-a-view-versus-a-copy\n",
      "  self._setitem_single_block(indexer, value, name)\n"
     ]
    },
    {
     "name": "stdout",
     "output_type": "stream",
     "text": [
      "Technologies utilisées : ['offshore', 'onshore', 'pv', 'river', 'lake', 'biogas', 'phs', 'battery', 'methanation']\n",
      "Chargement des paramètres ...\n",
      "vrenew14.csv\n",
      "demand2050_rte.csv\n",
      "Initialisation des sets...\n",
      "Définition des variables à optimiser ...\n",
      "Ajout des contraintes ...\n",
      "Optimisation ...\n",
      "Simulation du modèle faite avec succès ! \n",
      "Ecriture des résultats ...\n"
     ]
    },
    {
     "name": "stderr",
     "output_type": "stream",
     "text": [
      "C:\\Users\\teaca\\anaconda3\\lib\\site-packages\\pandas\\core\\internals\\construction.py:540: VisibleDeprecationWarning: Creating an ndarray from ragged nested sequences (which is a list-or-tuple of lists-or-tuples-or ndarrays with different lengths or shapes) is deprecated. If you meant to do this, you must specify 'dtype=object' when creating the ndarray.\n",
      "  values = np.array([convert(v) for v in values])\n"
     ]
    },
    {
     "name": "stdout",
     "output_type": "stream",
     "text": [
      "Year [2014]\n"
     ]
    },
    {
     "name": "stderr",
     "output_type": "stream",
     "text": [
      "C:\\Users\\teaca\\anaconda3\\lib\\site-packages\\pandas\\core\\indexing.py:1732: SettingWithCopyWarning: \n",
      "A value is trying to be set on a copy of a slice from a DataFrame\n",
      "\n",
      "See the caveats in the documentation: https://pandas.pydata.org/pandas-docs/stable/user_guide/indexing.html#returning-a-view-versus-a-copy\n",
      "  self._setitem_single_block(indexer, value, name)\n"
     ]
    },
    {
     "name": "stdout",
     "output_type": "stream",
     "text": [
      "Technologies utilisées : ['offshore', 'onshore', 'pv', 'river', 'lake', 'biogas', 'phs', 'battery', 'methanation']\n",
      "Chargement des paramètres ...\n",
      "vrenew15.csv\n",
      "demand2050_rte.csv\n",
      "Initialisation des sets...\n",
      "Définition des variables à optimiser ...\n",
      "Ajout des contraintes ...\n",
      "Optimisation ...\n",
      "Simulation du modèle faite avec succès ! \n",
      "Ecriture des résultats ...\n"
     ]
    },
    {
     "name": "stderr",
     "output_type": "stream",
     "text": [
      "C:\\Users\\teaca\\anaconda3\\lib\\site-packages\\pandas\\core\\internals\\construction.py:540: VisibleDeprecationWarning: Creating an ndarray from ragged nested sequences (which is a list-or-tuple of lists-or-tuples-or ndarrays with different lengths or shapes) is deprecated. If you meant to do this, you must specify 'dtype=object' when creating the ndarray.\n",
      "  values = np.array([convert(v) for v in values])\n"
     ]
    },
    {
     "name": "stdout",
     "output_type": "stream",
     "text": [
      "Year [2005]\n"
     ]
    },
    {
     "name": "stderr",
     "output_type": "stream",
     "text": [
      "C:\\Users\\teaca\\anaconda3\\lib\\site-packages\\pandas\\core\\indexing.py:1732: SettingWithCopyWarning: \n",
      "A value is trying to be set on a copy of a slice from a DataFrame\n",
      "\n",
      "See the caveats in the documentation: https://pandas.pydata.org/pandas-docs/stable/user_guide/indexing.html#returning-a-view-versus-a-copy\n",
      "  self._setitem_single_block(indexer, value, name)\n"
     ]
    },
    {
     "name": "stdout",
     "output_type": "stream",
     "text": [
      "Technologies utilisées : ['offshore', 'onshore', 'pv', 'river', 'lake', 'biogas', 'phs', 'battery', 'methanation']\n",
      "Chargement des paramètres ...\n",
      "vrenew16.csv\n",
      "demand2050_rte.csv\n",
      "Initialisation des sets...\n",
      "Définition des variables à optimiser ...\n",
      "Ajout des contraintes ...\n",
      "Optimisation ...\n",
      "Simulation du modèle faite avec succès ! \n",
      "Ecriture des résultats ...\n"
     ]
    },
    {
     "name": "stderr",
     "output_type": "stream",
     "text": [
      "C:\\Users\\teaca\\anaconda3\\lib\\site-packages\\pandas\\core\\internals\\construction.py:540: VisibleDeprecationWarning: Creating an ndarray from ragged nested sequences (which is a list-or-tuple of lists-or-tuples-or ndarrays with different lengths or shapes) is deprecated. If you meant to do this, you must specify 'dtype=object' when creating the ndarray.\n",
      "  values = np.array([convert(v) for v in values])\n"
     ]
    },
    {
     "name": "stdout",
     "output_type": "stream",
     "text": [
      "Year [2000]\n"
     ]
    },
    {
     "name": "stderr",
     "output_type": "stream",
     "text": [
      "C:\\Users\\teaca\\anaconda3\\lib\\site-packages\\pandas\\core\\indexing.py:1732: SettingWithCopyWarning: \n",
      "A value is trying to be set on a copy of a slice from a DataFrame\n",
      "\n",
      "See the caveats in the documentation: https://pandas.pydata.org/pandas-docs/stable/user_guide/indexing.html#returning-a-view-versus-a-copy\n",
      "  self._setitem_single_block(indexer, value, name)\n"
     ]
    },
    {
     "name": "stdout",
     "output_type": "stream",
     "text": [
      "Technologies utilisées : ['offshore', 'onshore', 'pv', 'river', 'lake', 'biogas', 'phs', 'battery', 'methanation']\n",
      "Chargement des paramètres ...\n",
      "vrenew17.csv\n",
      "demand2050_rte.csv\n",
      "Initialisation des sets...\n",
      "Définition des variables à optimiser ...\n",
      "Ajout des contraintes ...\n",
      "Optimisation ...\n",
      "Simulation du modèle faite avec succès ! \n",
      "Ecriture des résultats ...\n"
     ]
    },
    {
     "name": "stderr",
     "output_type": "stream",
     "text": [
      "C:\\Users\\teaca\\anaconda3\\lib\\site-packages\\pandas\\core\\internals\\construction.py:540: VisibleDeprecationWarning: Creating an ndarray from ragged nested sequences (which is a list-or-tuple of lists-or-tuples-or ndarrays with different lengths or shapes) is deprecated. If you meant to do this, you must specify 'dtype=object' when creating the ndarray.\n",
      "  values = np.array([convert(v) for v in values])\n"
     ]
    },
    {
     "name": "stdout",
     "output_type": "stream",
     "text": [
      "Year [2005]\n"
     ]
    },
    {
     "name": "stderr",
     "output_type": "stream",
     "text": [
      "C:\\Users\\teaca\\anaconda3\\lib\\site-packages\\pandas\\core\\indexing.py:1732: SettingWithCopyWarning: \n",
      "A value is trying to be set on a copy of a slice from a DataFrame\n",
      "\n",
      "See the caveats in the documentation: https://pandas.pydata.org/pandas-docs/stable/user_guide/indexing.html#returning-a-view-versus-a-copy\n",
      "  self._setitem_single_block(indexer, value, name)\n"
     ]
    },
    {
     "name": "stdout",
     "output_type": "stream",
     "text": [
      "Technologies utilisées : ['offshore', 'onshore', 'pv', 'river', 'lake', 'biogas', 'phs', 'battery', 'methanation']\n",
      "Chargement des paramètres ...\n",
      "vrenew18.csv\n",
      "demand2050_rte.csv\n",
      "Initialisation des sets...\n",
      "Définition des variables à optimiser ...\n",
      "Ajout des contraintes ...\n",
      "Optimisation ...\n",
      "Simulation du modèle faite avec succès ! \n",
      "Ecriture des résultats ...\n"
     ]
    },
    {
     "name": "stderr",
     "output_type": "stream",
     "text": [
      "C:\\Users\\teaca\\anaconda3\\lib\\site-packages\\pandas\\core\\internals\\construction.py:540: VisibleDeprecationWarning: Creating an ndarray from ragged nested sequences (which is a list-or-tuple of lists-or-tuples-or ndarrays with different lengths or shapes) is deprecated. If you meant to do this, you must specify 'dtype=object' when creating the ndarray.\n",
      "  values = np.array([convert(v) for v in values])\n"
     ]
    },
    {
     "name": "stdout",
     "output_type": "stream",
     "text": [
      "Year [2000]\n"
     ]
    },
    {
     "name": "stderr",
     "output_type": "stream",
     "text": [
      "C:\\Users\\teaca\\anaconda3\\lib\\site-packages\\pandas\\core\\indexing.py:1732: SettingWithCopyWarning: \n",
      "A value is trying to be set on a copy of a slice from a DataFrame\n",
      "\n",
      "See the caveats in the documentation: https://pandas.pydata.org/pandas-docs/stable/user_guide/indexing.html#returning-a-view-versus-a-copy\n",
      "  self._setitem_single_block(indexer, value, name)\n"
     ]
    },
    {
     "name": "stdout",
     "output_type": "stream",
     "text": [
      "Technologies utilisées : ['offshore', 'onshore', 'pv', 'river', 'lake', 'biogas', 'phs', 'battery', 'methanation']\n",
      "Chargement des paramètres ...\n",
      "vrenew19.csv\n",
      "demand2050_rte.csv\n",
      "Initialisation des sets...\n",
      "Définition des variables à optimiser ...\n",
      "Ajout des contraintes ...\n",
      "Optimisation ...\n",
      "Simulation du modèle faite avec succès ! \n",
      "Ecriture des résultats ...\n"
     ]
    },
    {
     "name": "stderr",
     "output_type": "stream",
     "text": [
      "C:\\Users\\teaca\\anaconda3\\lib\\site-packages\\pandas\\core\\internals\\construction.py:540: VisibleDeprecationWarning: Creating an ndarray from ragged nested sequences (which is a list-or-tuple of lists-or-tuples-or ndarrays with different lengths or shapes) is deprecated. If you meant to do this, you must specify 'dtype=object' when creating the ndarray.\n",
      "  values = np.array([convert(v) for v in values])\n"
     ]
    },
    {
     "name": "stdout",
     "output_type": "stream",
     "text": [
      "Year [2000]\n"
     ]
    },
    {
     "name": "stderr",
     "output_type": "stream",
     "text": [
      "C:\\Users\\teaca\\anaconda3\\lib\\site-packages\\pandas\\core\\indexing.py:1732: SettingWithCopyWarning: \n",
      "A value is trying to be set on a copy of a slice from a DataFrame\n",
      "\n",
      "See the caveats in the documentation: https://pandas.pydata.org/pandas-docs/stable/user_guide/indexing.html#returning-a-view-versus-a-copy\n",
      "  self._setitem_single_block(indexer, value, name)\n"
     ]
    },
    {
     "name": "stdout",
     "output_type": "stream",
     "text": [
      "Technologies utilisées : ['offshore', 'onshore', 'pv', 'river', 'lake', 'biogas', 'phs', 'battery', 'methanation']\n",
      "Chargement des paramètres ...\n",
      "vrenew20.csv\n",
      "demand2050_rte.csv\n",
      "Initialisation des sets...\n",
      "Définition des variables à optimiser ...\n",
      "Ajout des contraintes ...\n",
      "Optimisation ...\n",
      "Simulation du modèle faite avec succès ! \n",
      "Ecriture des résultats ...\n"
     ]
    },
    {
     "name": "stderr",
     "output_type": "stream",
     "text": [
      "C:\\Users\\teaca\\anaconda3\\lib\\site-packages\\pandas\\core\\internals\\construction.py:540: VisibleDeprecationWarning: Creating an ndarray from ragged nested sequences (which is a list-or-tuple of lists-or-tuples-or ndarrays with different lengths or shapes) is deprecated. If you meant to do this, you must specify 'dtype=object' when creating the ndarray.\n",
      "  values = np.array([convert(v) for v in values])\n"
     ]
    },
    {
     "name": "stdout",
     "output_type": "stream",
     "text": [
      "Year [2006]\n"
     ]
    },
    {
     "name": "stderr",
     "output_type": "stream",
     "text": [
      "C:\\Users\\teaca\\anaconda3\\lib\\site-packages\\pandas\\core\\indexing.py:1732: SettingWithCopyWarning: \n",
      "A value is trying to be set on a copy of a slice from a DataFrame\n",
      "\n",
      "See the caveats in the documentation: https://pandas.pydata.org/pandas-docs/stable/user_guide/indexing.html#returning-a-view-versus-a-copy\n",
      "  self._setitem_single_block(indexer, value, name)\n"
     ]
    },
    {
     "name": "stdout",
     "output_type": "stream",
     "text": [
      "Technologies utilisées : ['offshore', 'onshore', 'pv', 'river', 'lake', 'biogas', 'phs', 'battery', 'methanation']\n",
      "Chargement des paramètres ...\n",
      "vrenew21.csv\n",
      "demand2050_rte.csv\n",
      "Initialisation des sets...\n",
      "Définition des variables à optimiser ...\n",
      "Ajout des contraintes ...\n",
      "Optimisation ...\n",
      "Simulation du modèle faite avec succès ! \n",
      "Ecriture des résultats ...\n"
     ]
    },
    {
     "name": "stderr",
     "output_type": "stream",
     "text": [
      "C:\\Users\\teaca\\anaconda3\\lib\\site-packages\\pandas\\core\\internals\\construction.py:540: VisibleDeprecationWarning: Creating an ndarray from ragged nested sequences (which is a list-or-tuple of lists-or-tuples-or ndarrays with different lengths or shapes) is deprecated. If you meant to do this, you must specify 'dtype=object' when creating the ndarray.\n",
      "  values = np.array([convert(v) for v in values])\n"
     ]
    },
    {
     "name": "stdout",
     "output_type": "stream",
     "text": [
      "Year [2000]\n"
     ]
    },
    {
     "name": "stderr",
     "output_type": "stream",
     "text": [
      "C:\\Users\\teaca\\anaconda3\\lib\\site-packages\\pandas\\core\\indexing.py:1732: SettingWithCopyWarning: \n",
      "A value is trying to be set on a copy of a slice from a DataFrame\n",
      "\n",
      "See the caveats in the documentation: https://pandas.pydata.org/pandas-docs/stable/user_guide/indexing.html#returning-a-view-versus-a-copy\n",
      "  self._setitem_single_block(indexer, value, name)\n"
     ]
    },
    {
     "name": "stdout",
     "output_type": "stream",
     "text": [
      "Technologies utilisées : ['offshore', 'onshore', 'pv', 'river', 'lake', 'biogas', 'phs', 'battery', 'methanation']\n",
      "Chargement des paramètres ...\n",
      "vrenew22.csv\n",
      "demand2050_rte.csv\n",
      "Initialisation des sets...\n",
      "Définition des variables à optimiser ...\n",
      "Ajout des contraintes ...\n",
      "Optimisation ...\n",
      "Simulation du modèle faite avec succès ! \n",
      "Ecriture des résultats ...\n"
     ]
    },
    {
     "name": "stderr",
     "output_type": "stream",
     "text": [
      "C:\\Users\\teaca\\anaconda3\\lib\\site-packages\\pandas\\core\\internals\\construction.py:540: VisibleDeprecationWarning: Creating an ndarray from ragged nested sequences (which is a list-or-tuple of lists-or-tuples-or ndarrays with different lengths or shapes) is deprecated. If you meant to do this, you must specify 'dtype=object' when creating the ndarray.\n",
      "  values = np.array([convert(v) for v in values])\n"
     ]
    },
    {
     "name": "stdout",
     "output_type": "stream",
     "text": [
      "Year [2003]\n"
     ]
    },
    {
     "name": "stderr",
     "output_type": "stream",
     "text": [
      "C:\\Users\\teaca\\anaconda3\\lib\\site-packages\\pandas\\core\\indexing.py:1732: SettingWithCopyWarning: \n",
      "A value is trying to be set on a copy of a slice from a DataFrame\n",
      "\n",
      "See the caveats in the documentation: https://pandas.pydata.org/pandas-docs/stable/user_guide/indexing.html#returning-a-view-versus-a-copy\n",
      "  self._setitem_single_block(indexer, value, name)\n"
     ]
    },
    {
     "name": "stdout",
     "output_type": "stream",
     "text": [
      "Technologies utilisées : ['offshore', 'onshore', 'pv', 'river', 'lake', 'biogas', 'phs', 'battery', 'methanation']\n",
      "Chargement des paramètres ...\n",
      "vrenew23.csv\n",
      "demand2050_rte.csv\n",
      "Initialisation des sets...\n",
      "Définition des variables à optimiser ...\n",
      "Ajout des contraintes ...\n",
      "Optimisation ...\n",
      "Simulation du modèle faite avec succès ! \n",
      "Ecriture des résultats ...\n"
     ]
    },
    {
     "name": "stderr",
     "output_type": "stream",
     "text": [
      "C:\\Users\\teaca\\anaconda3\\lib\\site-packages\\pandas\\core\\internals\\construction.py:540: VisibleDeprecationWarning: Creating an ndarray from ragged nested sequences (which is a list-or-tuple of lists-or-tuples-or ndarrays with different lengths or shapes) is deprecated. If you meant to do this, you must specify 'dtype=object' when creating the ndarray.\n",
      "  values = np.array([convert(v) for v in values])\n"
     ]
    },
    {
     "name": "stdout",
     "output_type": "stream",
     "text": [
      "Year [2009]\n"
     ]
    },
    {
     "name": "stderr",
     "output_type": "stream",
     "text": [
      "C:\\Users\\teaca\\anaconda3\\lib\\site-packages\\pandas\\core\\indexing.py:1732: SettingWithCopyWarning: \n",
      "A value is trying to be set on a copy of a slice from a DataFrame\n",
      "\n",
      "See the caveats in the documentation: https://pandas.pydata.org/pandas-docs/stable/user_guide/indexing.html#returning-a-view-versus-a-copy\n",
      "  self._setitem_single_block(indexer, value, name)\n"
     ]
    },
    {
     "name": "stdout",
     "output_type": "stream",
     "text": [
      "Technologies utilisées : ['offshore', 'onshore', 'pv', 'river', 'lake', 'biogas', 'phs', 'battery', 'methanation']\n",
      "Chargement des paramètres ...\n",
      "vrenew24.csv\n",
      "demand2050_rte.csv\n",
      "Initialisation des sets...\n",
      "Définition des variables à optimiser ...\n",
      "Ajout des contraintes ...\n",
      "Optimisation ...\n",
      "Simulation du modèle faite avec succès ! \n",
      "Ecriture des résultats ...\n"
     ]
    },
    {
     "name": "stderr",
     "output_type": "stream",
     "text": [
      "C:\\Users\\teaca\\anaconda3\\lib\\site-packages\\pandas\\core\\internals\\construction.py:540: VisibleDeprecationWarning: Creating an ndarray from ragged nested sequences (which is a list-or-tuple of lists-or-tuples-or ndarrays with different lengths or shapes) is deprecated. If you meant to do this, you must specify 'dtype=object' when creating the ndarray.\n",
      "  values = np.array([convert(v) for v in values])\n"
     ]
    },
    {
     "name": "stdout",
     "output_type": "stream",
     "text": [
      "Year [2014]\n"
     ]
    },
    {
     "name": "stderr",
     "output_type": "stream",
     "text": [
      "C:\\Users\\teaca\\anaconda3\\lib\\site-packages\\pandas\\core\\indexing.py:1732: SettingWithCopyWarning: \n",
      "A value is trying to be set on a copy of a slice from a DataFrame\n",
      "\n",
      "See the caveats in the documentation: https://pandas.pydata.org/pandas-docs/stable/user_guide/indexing.html#returning-a-view-versus-a-copy\n",
      "  self._setitem_single_block(indexer, value, name)\n"
     ]
    },
    {
     "name": "stdout",
     "output_type": "stream",
     "text": [
      "Technologies utilisées : ['offshore', 'onshore', 'pv', 'river', 'lake', 'biogas', 'phs', 'battery', 'methanation']\n",
      "Chargement des paramètres ...\n",
      "vrenew25.csv\n",
      "demand2050_rte.csv\n",
      "Initialisation des sets...\n",
      "Définition des variables à optimiser ...\n",
      "Ajout des contraintes ...\n",
      "Optimisation ...\n",
      "Simulation du modèle faite avec succès ! \n",
      "Ecriture des résultats ...\n"
     ]
    },
    {
     "name": "stderr",
     "output_type": "stream",
     "text": [
      "C:\\Users\\teaca\\anaconda3\\lib\\site-packages\\pandas\\core\\internals\\construction.py:540: VisibleDeprecationWarning: Creating an ndarray from ragged nested sequences (which is a list-or-tuple of lists-or-tuples-or ndarrays with different lengths or shapes) is deprecated. If you meant to do this, you must specify 'dtype=object' when creating the ndarray.\n",
      "  values = np.array([convert(v) for v in values])\n"
     ]
    },
    {
     "name": "stdout",
     "output_type": "stream",
     "text": [
      "Year [2014]\n"
     ]
    },
    {
     "name": "stderr",
     "output_type": "stream",
     "text": [
      "C:\\Users\\teaca\\anaconda3\\lib\\site-packages\\pandas\\core\\indexing.py:1732: SettingWithCopyWarning: \n",
      "A value is trying to be set on a copy of a slice from a DataFrame\n",
      "\n",
      "See the caveats in the documentation: https://pandas.pydata.org/pandas-docs/stable/user_guide/indexing.html#returning-a-view-versus-a-copy\n",
      "  self._setitem_single_block(indexer, value, name)\n"
     ]
    },
    {
     "name": "stdout",
     "output_type": "stream",
     "text": [
      "Technologies utilisées : ['offshore', 'onshore', 'pv', 'river', 'lake', 'biogas', 'phs', 'battery', 'methanation']\n",
      "Chargement des paramètres ...\n",
      "vrenew26.csv\n",
      "demand2050_rte.csv\n",
      "Initialisation des sets...\n",
      "Définition des variables à optimiser ...\n",
      "Ajout des contraintes ...\n",
      "Optimisation ...\n",
      "Simulation du modèle faite avec succès ! \n",
      "Ecriture des résultats ...\n"
     ]
    },
    {
     "name": "stderr",
     "output_type": "stream",
     "text": [
      "C:\\Users\\teaca\\anaconda3\\lib\\site-packages\\pandas\\core\\internals\\construction.py:540: VisibleDeprecationWarning: Creating an ndarray from ragged nested sequences (which is a list-or-tuple of lists-or-tuples-or ndarrays with different lengths or shapes) is deprecated. If you meant to do this, you must specify 'dtype=object' when creating the ndarray.\n",
      "  values = np.array([convert(v) for v in values])\n"
     ]
    },
    {
     "name": "stdout",
     "output_type": "stream",
     "text": [
      "Year [2008]\n"
     ]
    },
    {
     "name": "stderr",
     "output_type": "stream",
     "text": [
      "C:\\Users\\teaca\\anaconda3\\lib\\site-packages\\pandas\\core\\indexing.py:1732: SettingWithCopyWarning: \n",
      "A value is trying to be set on a copy of a slice from a DataFrame\n",
      "\n",
      "See the caveats in the documentation: https://pandas.pydata.org/pandas-docs/stable/user_guide/indexing.html#returning-a-view-versus-a-copy\n",
      "  self._setitem_single_block(indexer, value, name)\n"
     ]
    },
    {
     "name": "stdout",
     "output_type": "stream",
     "text": [
      "Technologies utilisées : ['offshore', 'onshore', 'pv', 'river', 'lake', 'biogas', 'phs', 'battery', 'methanation']\n",
      "Chargement des paramètres ...\n",
      "vrenew27.csv\n",
      "demand2050_rte.csv\n",
      "Initialisation des sets...\n",
      "Définition des variables à optimiser ...\n",
      "Ajout des contraintes ...\n",
      "Optimisation ...\n",
      "Simulation du modèle faite avec succès ! \n",
      "Ecriture des résultats ...\n"
     ]
    },
    {
     "name": "stderr",
     "output_type": "stream",
     "text": [
      "C:\\Users\\teaca\\anaconda3\\lib\\site-packages\\pandas\\core\\internals\\construction.py:540: VisibleDeprecationWarning: Creating an ndarray from ragged nested sequences (which is a list-or-tuple of lists-or-tuples-or ndarrays with different lengths or shapes) is deprecated. If you meant to do this, you must specify 'dtype=object' when creating the ndarray.\n",
      "  values = np.array([convert(v) for v in values])\n"
     ]
    },
    {
     "name": "stdout",
     "output_type": "stream",
     "text": [
      "Year [2002]\n"
     ]
    },
    {
     "name": "stderr",
     "output_type": "stream",
     "text": [
      "C:\\Users\\teaca\\anaconda3\\lib\\site-packages\\pandas\\core\\indexing.py:1732: SettingWithCopyWarning: \n",
      "A value is trying to be set on a copy of a slice from a DataFrame\n",
      "\n",
      "See the caveats in the documentation: https://pandas.pydata.org/pandas-docs/stable/user_guide/indexing.html#returning-a-view-versus-a-copy\n",
      "  self._setitem_single_block(indexer, value, name)\n"
     ]
    },
    {
     "name": "stdout",
     "output_type": "stream",
     "text": [
      "Technologies utilisées : ['offshore', 'onshore', 'pv', 'river', 'lake', 'biogas', 'phs', 'battery', 'methanation']\n",
      "Chargement des paramètres ...\n",
      "vrenew28.csv\n",
      "demand2050_rte.csv\n",
      "Initialisation des sets...\n",
      "Définition des variables à optimiser ...\n",
      "Ajout des contraintes ...\n",
      "Optimisation ...\n",
      "Simulation du modèle faite avec succès ! \n",
      "Ecriture des résultats ...\n"
     ]
    },
    {
     "name": "stderr",
     "output_type": "stream",
     "text": [
      "C:\\Users\\teaca\\anaconda3\\lib\\site-packages\\pandas\\core\\internals\\construction.py:540: VisibleDeprecationWarning: Creating an ndarray from ragged nested sequences (which is a list-or-tuple of lists-or-tuples-or ndarrays with different lengths or shapes) is deprecated. If you meant to do this, you must specify 'dtype=object' when creating the ndarray.\n",
      "  values = np.array([convert(v) for v in values])\n"
     ]
    },
    {
     "name": "stdout",
     "output_type": "stream",
     "text": [
      "Year [2004]\n"
     ]
    },
    {
     "name": "stderr",
     "output_type": "stream",
     "text": [
      "C:\\Users\\teaca\\anaconda3\\lib\\site-packages\\pandas\\core\\indexing.py:1732: SettingWithCopyWarning: \n",
      "A value is trying to be set on a copy of a slice from a DataFrame\n",
      "\n",
      "See the caveats in the documentation: https://pandas.pydata.org/pandas-docs/stable/user_guide/indexing.html#returning-a-view-versus-a-copy\n",
      "  self._setitem_single_block(indexer, value, name)\n"
     ]
    },
    {
     "name": "stdout",
     "output_type": "stream",
     "text": [
      "Technologies utilisées : ['offshore', 'onshore', 'pv', 'river', 'lake', 'biogas', 'phs', 'battery', 'methanation']\n",
      "Chargement des paramètres ...\n",
      "vrenew29.csv\n",
      "demand2050_rte.csv\n",
      "Initialisation des sets...\n",
      "Définition des variables à optimiser ...\n",
      "Ajout des contraintes ...\n",
      "Optimisation ...\n",
      "Simulation du modèle faite avec succès ! \n",
      "Ecriture des résultats ...\n"
     ]
    },
    {
     "name": "stderr",
     "output_type": "stream",
     "text": [
      "C:\\Users\\teaca\\anaconda3\\lib\\site-packages\\pandas\\core\\internals\\construction.py:540: VisibleDeprecationWarning: Creating an ndarray from ragged nested sequences (which is a list-or-tuple of lists-or-tuples-or ndarrays with different lengths or shapes) is deprecated. If you meant to do this, you must specify 'dtype=object' when creating the ndarray.\n",
      "  values = np.array([convert(v) for v in values])\n"
     ]
    }
   ],
   "source": [
    "# Optimal values found in summary with demand of RTE and vre 2006\n",
    "Volume_str_opti = pd.Series([135.5, 186.77956, 14356.455], index = stor)\n",
    "S_opti = pd.Series([6.2,33.875077, 10.991424], index = stor)\n",
    "Q_tec_opti = pd.Series([20, 120, 153.59165, 7.5, 12.855 ,37.009384, 6.3936009, 33.875077, 10.828085], index = tec)\n",
    "Cost_opti = 29.214222756075717 \n",
    "\n",
    "opti_simu(Q_tec_opti, Volume_str_opti, S_opti, nb_simu = 30)"
   ]
  },
  {
   "cell_type": "code",
   "execution_count": 37,
   "id": "817e4bce",
   "metadata": {},
   "outputs": [
    {
     "name": "stdout",
     "output_type": "stream",
     "text": [
      "30\n"
     ]
    },
    {
     "data": {
      "image/png": "[encoded data removed]",
      "text/plain": [
       "<Figure size 432x288 with 1 Axes>"
      ]
     },
     "metadata": {
      "needs_background": "light"
     },
     "output_type": "display_data"
    }
   ],
   "source": [
    "list_cost = []\n",
    "for simu in range(30):\n",
    "    model_name = \"simuvrenew\"+str(simu)+\".csv\"\n",
    "    cost = pd.read_csv(\"simulations/new_simulations/\"+model_name+\"/\"+model_name+\"_Cost.csv\", names=['vre', 'cost'])\n",
    "    list_cost += [float(cost['cost'][1][73:82])]\n",
    "print(len(list_cost))\n",
    "plt.boxplot(list_cost)\n",
    "plt.ylabel('Cost in Billion €')\n",
    "plt.xticks([1], ['Production years'])\n",
    "plt.title('Cost variation for new production years')\n",
    "plt.show()"
   ]
  },
  {
   "cell_type": "code",
   "execution_count": 62,
   "id": "dc4d01ea",
   "metadata": {},
   "outputs": [],
   "source": [
    "from complete_model import complete_model\n",
    "\n",
    "def complete_simu(nb_simu = 30):\n",
    "    for simu in range(nb_simu):\n",
    "        model_name = \"vrenew\"+str(simu)\n",
    "        \n",
    "        #New weather year\n",
    "        typical_year_off, typical_year_on, typical_year_pv = simulating_new_year()\n",
    "        vrenew = save_new_profile(typical_year_off, typical_year_on, typical_year_pv)\n",
    "        \n",
    "        vrenew.to_csv('inputs/'+ model_name +'.csv', header=None, index=False)\n",
    "        \n",
    "        #Simulation modèle optimal (on fixe les capacités)\n",
    "        simu0 = complete_model()\n",
    "        simu0.load_param(\"inputs/\", model_name+\".csv\", \"demand2050_rte.csv\")\n",
    "        simu0.run()\n",
    "        \n",
    "        res0 = simu0.write_results(\"simu\"+model_name+'.csv', model_name+\".csv\", \"demand2050_rte.csv\")"
   ]
  },
  {
   "cell_type": "code",
   "execution_count": 63,
   "id": "2be6b320",
   "metadata": {},
   "outputs": [
    {
     "name": "stdout",
     "output_type": "stream",
     "text": [
      "Year [2004]\n"
     ]
    },
    {
     "name": "stderr",
     "output_type": "stream",
     "text": [
      "C:\\Users\\teaca\\anaconda3\\lib\\site-packages\\pandas\\core\\indexing.py:1732: SettingWithCopyWarning: \n",
      "A value is trying to be set on a copy of a slice from a DataFrame\n",
      "\n",
      "See the caveats in the documentation: https://pandas.pydata.org/pandas-docs/stable/user_guide/indexing.html#returning-a-view-versus-a-copy\n",
      "  self._setitem_single_block(indexer, value, name)\n"
     ]
    },
    {
     "name": "stdout",
     "output_type": "stream",
     "text": [
      "Chargement des paramètres ...\n",
      "vrenew0.csv\n",
      "demand2050_rte.csv\n",
      "Initialisation des sets...\n",
      "Définition des variables à optimiser ...\n",
      "Ajout des contraintes ...\n",
      "Optimisation ...\n",
      "Simulation du modèle faite avec succès ! \n",
      "Ecriture des résultats ...\n",
      "Year [2010]\n"
     ]
    },
    {
     "name": "stderr",
     "output_type": "stream",
     "text": [
      "C:\\Users\\teaca\\anaconda3\\lib\\site-packages\\pandas\\core\\indexing.py:1732: SettingWithCopyWarning: \n",
      "A value is trying to be set on a copy of a slice from a DataFrame\n",
      "\n",
      "See the caveats in the documentation: https://pandas.pydata.org/pandas-docs/stable/user_guide/indexing.html#returning-a-view-versus-a-copy\n",
      "  self._setitem_single_block(indexer, value, name)\n"
     ]
    },
    {
     "name": "stdout",
     "output_type": "stream",
     "text": [
      "Chargement des paramètres ...\n",
      "vrenew1.csv\n",
      "demand2050_rte.csv\n",
      "Initialisation des sets...\n",
      "Définition des variables à optimiser ...\n",
      "Ajout des contraintes ...\n",
      "Optimisation ...\n",
      "Simulation du modèle faite avec succès ! \n",
      "Ecriture des résultats ...\n",
      "Year [2014]\n"
     ]
    },
    {
     "name": "stderr",
     "output_type": "stream",
     "text": [
      "C:\\Users\\teaca\\anaconda3\\lib\\site-packages\\pandas\\core\\indexing.py:1732: SettingWithCopyWarning: \n",
      "A value is trying to be set on a copy of a slice from a DataFrame\n",
      "\n",
      "See the caveats in the documentation: https://pandas.pydata.org/pandas-docs/stable/user_guide/indexing.html#returning-a-view-versus-a-copy\n",
      "  self._setitem_single_block(indexer, value, name)\n"
     ]
    },
    {
     "name": "stdout",
     "output_type": "stream",
     "text": [
      "Chargement des paramètres ...\n",
      "vrenew2.csv\n",
      "demand2050_rte.csv\n",
      "Initialisation des sets...\n",
      "Définition des variables à optimiser ...\n",
      "Ajout des contraintes ...\n",
      "Optimisation ...\n",
      "Simulation du modèle faite avec succès ! \n",
      "Ecriture des résultats ...\n",
      "Year [2012]\n"
     ]
    },
    {
     "name": "stderr",
     "output_type": "stream",
     "text": [
      "C:\\Users\\teaca\\anaconda3\\lib\\site-packages\\pandas\\core\\indexing.py:1732: SettingWithCopyWarning: \n",
      "A value is trying to be set on a copy of a slice from a DataFrame\n",
      "\n",
      "See the caveats in the documentation: https://pandas.pydata.org/pandas-docs/stable/user_guide/indexing.html#returning-a-view-versus-a-copy\n",
      "  self._setitem_single_block(indexer, value, name)\n"
     ]
    },
    {
     "name": "stdout",
     "output_type": "stream",
     "text": [
      "Chargement des paramètres ...\n",
      "vrenew3.csv\n",
      "demand2050_rte.csv\n",
      "Initialisation des sets...\n",
      "Définition des variables à optimiser ...\n",
      "Ajout des contraintes ...\n",
      "Optimisation ...\n",
      "Simulation du modèle faite avec succès ! \n",
      "Ecriture des résultats ...\n",
      "Year [2011]\n"
     ]
    },
    {
     "name": "stderr",
     "output_type": "stream",
     "text": [
      "C:\\Users\\teaca\\anaconda3\\lib\\site-packages\\pandas\\core\\indexing.py:1732: SettingWithCopyWarning: \n",
      "A value is trying to be set on a copy of a slice from a DataFrame\n",
      "\n",
      "See the caveats in the documentation: https://pandas.pydata.org/pandas-docs/stable/user_guide/indexing.html#returning-a-view-versus-a-copy\n",
      "  self._setitem_single_block(indexer, value, name)\n"
     ]
    },
    {
     "name": "stdout",
     "output_type": "stream",
     "text": [
      "Chargement des paramètres ...\n",
      "vrenew4.csv\n",
      "demand2050_rte.csv\n",
      "Initialisation des sets...\n",
      "Définition des variables à optimiser ...\n",
      "Ajout des contraintes ...\n",
      "Optimisation ...\n",
      "Simulation du modèle faite avec succès ! \n",
      "Ecriture des résultats ...\n",
      "Year [2013]\n"
     ]
    },
    {
     "name": "stderr",
     "output_type": "stream",
     "text": [
      "C:\\Users\\teaca\\anaconda3\\lib\\site-packages\\pandas\\core\\indexing.py:1732: SettingWithCopyWarning: \n",
      "A value is trying to be set on a copy of a slice from a DataFrame\n",
      "\n",
      "See the caveats in the documentation: https://pandas.pydata.org/pandas-docs/stable/user_guide/indexing.html#returning-a-view-versus-a-copy\n",
      "  self._setitem_single_block(indexer, value, name)\n"
     ]
    },
    {
     "name": "stdout",
     "output_type": "stream",
     "text": [
      "Chargement des paramètres ...\n",
      "vrenew5.csv\n",
      "demand2050_rte.csv\n",
      "Initialisation des sets...\n",
      "Définition des variables à optimiser ...\n",
      "Ajout des contraintes ...\n",
      "Optimisation ...\n",
      "Simulation du modèle faite avec succès ! \n",
      "Ecriture des résultats ...\n",
      "Year [2001]\n"
     ]
    },
    {
     "name": "stderr",
     "output_type": "stream",
     "text": [
      "C:\\Users\\teaca\\anaconda3\\lib\\site-packages\\pandas\\core\\indexing.py:1732: SettingWithCopyWarning: \n",
      "A value is trying to be set on a copy of a slice from a DataFrame\n",
      "\n",
      "See the caveats in the documentation: https://pandas.pydata.org/pandas-docs/stable/user_guide/indexing.html#returning-a-view-versus-a-copy\n",
      "  self._setitem_single_block(indexer, value, name)\n"
     ]
    },
    {
     "name": "stdout",
     "output_type": "stream",
     "text": [
      "Chargement des paramètres ...\n",
      "vrenew6.csv\n",
      "demand2050_rte.csv\n",
      "Initialisation des sets...\n",
      "Définition des variables à optimiser ...\n",
      "Ajout des contraintes ...\n",
      "Optimisation ...\n",
      "Simulation du modèle faite avec succès ! \n",
      "Ecriture des résultats ...\n",
      "Year [2002]\n"
     ]
    },
    {
     "name": "stderr",
     "output_type": "stream",
     "text": [
      "C:\\Users\\teaca\\anaconda3\\lib\\site-packages\\pandas\\core\\indexing.py:1732: SettingWithCopyWarning: \n",
      "A value is trying to be set on a copy of a slice from a DataFrame\n",
      "\n",
      "See the caveats in the documentation: https://pandas.pydata.org/pandas-docs/stable/user_guide/indexing.html#returning-a-view-versus-a-copy\n",
      "  self._setitem_single_block(indexer, value, name)\n"
     ]
    },
    {
     "name": "stdout",
     "output_type": "stream",
     "text": [
      "Chargement des paramètres ...\n",
      "vrenew7.csv\n",
      "demand2050_rte.csv\n",
      "Initialisation des sets...\n",
      "Définition des variables à optimiser ...\n",
      "Ajout des contraintes ...\n",
      "Optimisation ...\n",
      "Simulation du modèle faite avec succès ! \n",
      "Ecriture des résultats ...\n",
      "Year [2008]\n"
     ]
    },
    {
     "name": "stderr",
     "output_type": "stream",
     "text": [
      "C:\\Users\\teaca\\anaconda3\\lib\\site-packages\\pandas\\core\\indexing.py:1732: SettingWithCopyWarning: \n",
      "A value is trying to be set on a copy of a slice from a DataFrame\n",
      "\n",
      "See the caveats in the documentation: https://pandas.pydata.org/pandas-docs/stable/user_guide/indexing.html#returning-a-view-versus-a-copy\n",
      "  self._setitem_single_block(indexer, value, name)\n"
     ]
    },
    {
     "name": "stdout",
     "output_type": "stream",
     "text": [
      "Chargement des paramètres ...\n",
      "vrenew8.csv\n",
      "demand2050_rte.csv\n",
      "Initialisation des sets...\n",
      "Définition des variables à optimiser ...\n",
      "Ajout des contraintes ...\n",
      "Optimisation ...\n",
      "Simulation du modèle faite avec succès ! \n",
      "Ecriture des résultats ...\n",
      "Year [2014]\n"
     ]
    },
    {
     "name": "stderr",
     "output_type": "stream",
     "text": [
      "C:\\Users\\teaca\\anaconda3\\lib\\site-packages\\pandas\\core\\indexing.py:1732: SettingWithCopyWarning: \n",
      "A value is trying to be set on a copy of a slice from a DataFrame\n",
      "\n",
      "See the caveats in the documentation: https://pandas.pydata.org/pandas-docs/stable/user_guide/indexing.html#returning-a-view-versus-a-copy\n",
      "  self._setitem_single_block(indexer, value, name)\n"
     ]
    },
    {
     "name": "stdout",
     "output_type": "stream",
     "text": [
      "Chargement des paramètres ...\n",
      "vrenew9.csv\n",
      "demand2050_rte.csv\n",
      "Initialisation des sets...\n",
      "Définition des variables à optimiser ...\n",
      "Ajout des contraintes ...\n",
      "Optimisation ...\n",
      "Simulation du modèle faite avec succès ! \n",
      "Ecriture des résultats ...\n",
      "Year [2001]\n"
     ]
    },
    {
     "name": "stderr",
     "output_type": "stream",
     "text": [
      "C:\\Users\\teaca\\anaconda3\\lib\\site-packages\\pandas\\core\\indexing.py:1732: SettingWithCopyWarning: \n",
      "A value is trying to be set on a copy of a slice from a DataFrame\n",
      "\n",
      "See the caveats in the documentation: https://pandas.pydata.org/pandas-docs/stable/user_guide/indexing.html#returning-a-view-versus-a-copy\n",
      "  self._setitem_single_block(indexer, value, name)\n"
     ]
    },
    {
     "name": "stdout",
     "output_type": "stream",
     "text": [
      "Chargement des paramètres ...\n",
      "vrenew10.csv\n",
      "demand2050_rte.csv\n",
      "Initialisation des sets...\n",
      "Définition des variables à optimiser ...\n",
      "Ajout des contraintes ...\n",
      "Optimisation ...\n",
      "Simulation du modèle faite avec succès ! \n",
      "Ecriture des résultats ...\n",
      "Year [2007]\n"
     ]
    },
    {
     "name": "stderr",
     "output_type": "stream",
     "text": [
      "C:\\Users\\teaca\\anaconda3\\lib\\site-packages\\pandas\\core\\indexing.py:1732: SettingWithCopyWarning: \n",
      "A value is trying to be set on a copy of a slice from a DataFrame\n",
      "\n",
      "See the caveats in the documentation: https://pandas.pydata.org/pandas-docs/stable/user_guide/indexing.html#returning-a-view-versus-a-copy\n",
      "  self._setitem_single_block(indexer, value, name)\n"
     ]
    },
    {
     "name": "stdout",
     "output_type": "stream",
     "text": [
      "Chargement des paramètres ...\n",
      "vrenew11.csv\n",
      "demand2050_rte.csv\n",
      "Initialisation des sets...\n",
      "Définition des variables à optimiser ...\n",
      "Ajout des contraintes ...\n",
      "Optimisation ...\n",
      "Simulation du modèle faite avec succès ! \n",
      "Ecriture des résultats ...\n",
      "Year [2016]\n"
     ]
    },
    {
     "name": "stderr",
     "output_type": "stream",
     "text": [
      "C:\\Users\\teaca\\anaconda3\\lib\\site-packages\\pandas\\core\\indexing.py:1732: SettingWithCopyWarning: \n",
      "A value is trying to be set on a copy of a slice from a DataFrame\n",
      "\n",
      "See the caveats in the documentation: https://pandas.pydata.org/pandas-docs/stable/user_guide/indexing.html#returning-a-view-versus-a-copy\n",
      "  self._setitem_single_block(indexer, value, name)\n"
     ]
    },
    {
     "name": "stdout",
     "output_type": "stream",
     "text": [
      "Chargement des paramètres ...\n",
      "vrenew12.csv\n",
      "demand2050_rte.csv\n",
      "Initialisation des sets...\n",
      "Définition des variables à optimiser ...\n",
      "Ajout des contraintes ...\n",
      "Optimisation ...\n",
      "Simulation du modèle faite avec succès ! \n",
      "Ecriture des résultats ...\n",
      "Year [2017]\n"
     ]
    },
    {
     "ename": "ValueError",
     "evalue": "Input contains NaN, infinity or a value too large for dtype('float64').",
     "output_type": "error",
     "traceback": [
      "\u001b[1;31m---------------------------------------------------------------------------\u001b[0m",
      "\u001b[1;31mValueError\u001b[0m                                Traceback (most recent call last)",
      "\u001b[1;32m~\\AppData\\Local\\Temp/ipykernel_13752/1539929305.py\u001b[0m in \u001b[0;36m<module>\u001b[1;34m\u001b[0m\n\u001b[1;32m----> 1\u001b[1;33m \u001b[0mcomplete_simu\u001b[0m\u001b[1;33m(\u001b[0m\u001b[1;33m)\u001b[0m\u001b[1;33m\u001b[0m\u001b[1;33m\u001b[0m\u001b[0m\n\u001b[0m",
      "\u001b[1;32m~\\AppData\\Local\\Temp/ipykernel_13752/2792463543.py\u001b[0m in \u001b[0;36mcomplete_simu\u001b[1;34m(nb_simu)\u001b[0m\n\u001b[0;32m      6\u001b[0m \u001b[1;33m\u001b[0m\u001b[0m\n\u001b[0;32m      7\u001b[0m         \u001b[1;31m#New weather year\u001b[0m\u001b[1;33m\u001b[0m\u001b[1;33m\u001b[0m\u001b[0m\n\u001b[1;32m----> 8\u001b[1;33m         \u001b[0mtypical_year_off\u001b[0m\u001b[1;33m,\u001b[0m \u001b[0mtypical_year_on\u001b[0m\u001b[1;33m,\u001b[0m \u001b[0mtypical_year_pv\u001b[0m \u001b[1;33m=\u001b[0m \u001b[0msimulating_new_year\u001b[0m\u001b[1;33m(\u001b[0m\u001b[1;33m)\u001b[0m\u001b[1;33m\u001b[0m\u001b[1;33m\u001b[0m\u001b[0m\n\u001b[0m\u001b[0;32m      9\u001b[0m         \u001b[0mvrenew\u001b[0m \u001b[1;33m=\u001b[0m \u001b[0msave_new_profile\u001b[0m\u001b[1;33m(\u001b[0m\u001b[0mtypical_year_off\u001b[0m\u001b[1;33m,\u001b[0m \u001b[0mtypical_year_on\u001b[0m\u001b[1;33m,\u001b[0m \u001b[0mtypical_year_pv\u001b[0m\u001b[1;33m)\u001b[0m\u001b[1;33m\u001b[0m\u001b[1;33m\u001b[0m\u001b[0m\n\u001b[0;32m     10\u001b[0m \u001b[1;33m\u001b[0m\u001b[0m\n",
      "\u001b[1;32m~\\AppData\\Local\\Temp/ipykernel_13752/1735893948.py\u001b[0m in \u001b[0;36msimulating_new_year\u001b[1;34m()\u001b[0m\n\u001b[0;32m     32\u001b[0m         \u001b[0mn_clusters\u001b[0m \u001b[1;33m=\u001b[0m \u001b[1;36m12\u001b[0m\u001b[1;33m\u001b[0m\u001b[1;33m\u001b[0m\u001b[0m\n\u001b[0;32m     33\u001b[0m         \u001b[0mcenters_existing_data\u001b[0m\u001b[1;33m,\u001b[0m \u001b[0mlabels_existing_data\u001b[0m \u001b[1;33m=\u001b[0m \u001b[0mClustering_days\u001b[0m\u001b[1;33m(\u001b[0m\u001b[0marray\u001b[0m\u001b[1;33m,\u001b[0m \u001b[0mn_clusters\u001b[0m\u001b[1;33m,\u001b[0m \u001b[0mmetric\u001b[0m\u001b[1;33m=\u001b[0m\u001b[1;34m'euclidean'\u001b[0m\u001b[1;33m,\u001b[0m \u001b[0mverbose_plot\u001b[0m\u001b[1;33m=\u001b[0m\u001b[1;32mFalse\u001b[0m\u001b[1;33m)\u001b[0m\u001b[1;33m\u001b[0m\u001b[1;33m\u001b[0m\u001b[0m\n\u001b[1;32m---> 34\u001b[1;33m         \u001b[0mcenters\u001b[0m\u001b[1;33m,\u001b[0m \u001b[0mlabels\u001b[0m\u001b[1;33m,\u001b[0m \u001b[0mnew_labels\u001b[0m \u001b[1;33m=\u001b[0m \u001b[0mLabels_new_year\u001b[0m\u001b[1;33m(\u001b[0m\u001b[0marray\u001b[0m\u001b[1;33m,\u001b[0m \u001b[0mnew_array\u001b[0m\u001b[1;33m,\u001b[0m \u001b[0mn_clusters\u001b[0m\u001b[1;33m,\u001b[0m \u001b[1;34m'euclidean'\u001b[0m\u001b[1;33m,\u001b[0m \u001b[1;32mFalse\u001b[0m\u001b[1;33m)\u001b[0m\u001b[1;33m\u001b[0m\u001b[1;33m\u001b[0m\u001b[0m\n\u001b[0m\u001b[0;32m     35\u001b[0m \u001b[1;33m\u001b[0m\u001b[0m\n\u001b[0;32m     36\u001b[0m         \u001b[1;31m#New year\u001b[0m\u001b[1;33m\u001b[0m\u001b[1;33m\u001b[0m\u001b[0m\n",
      "\u001b[1;32m~\\OneDrive - insa-toulouse.fr\\Documents\\INSA\\4A\\4A.Stage\\4A.Stage.Codes_ENR\\typical_days.py\u001b[0m in \u001b[0;36mLabels_new_year\u001b[1;34m(array, new_array, n_clusters, metric, verbose_plot)\u001b[0m\n\u001b[0;32m    120\u001b[0m \u001b[1;33m\u001b[0m\u001b[0m\n\u001b[0;32m    121\u001b[0m     \u001b[1;31m#on prédit la classe des nouveaux jours ie des productions moyennes journalières simulées\u001b[0m\u001b[1;33m\u001b[0m\u001b[1;33m\u001b[0m\u001b[0m\n\u001b[1;32m--> 122\u001b[1;33m     \u001b[0mnew_labels\u001b[0m \u001b[1;33m=\u001b[0m \u001b[0mKMobj\u001b[0m\u001b[1;33m.\u001b[0m\u001b[0mpredict\u001b[0m\u001b[1;33m(\u001b[0m\u001b[0mnew_array2\u001b[0m\u001b[1;33m)\u001b[0m\u001b[1;33m\u001b[0m\u001b[1;33m\u001b[0m\u001b[0m\n\u001b[0m\u001b[0;32m    123\u001b[0m     \u001b[0munq_lab\u001b[0m \u001b[1;33m=\u001b[0m \u001b[0mset\u001b[0m\u001b[1;33m(\u001b[0m\u001b[0mnew_labels\u001b[0m\u001b[1;33m)\u001b[0m\u001b[1;33m\u001b[0m\u001b[1;33m\u001b[0m\u001b[0m\n\u001b[0;32m    124\u001b[0m \u001b[1;33m\u001b[0m\u001b[0m\n",
      "\u001b[1;32m~\\anaconda3\\lib\\site-packages\\sklearn_extra\\cluster\\_k_medoids.py\u001b[0m in \u001b[0;36mpredict\u001b[1;34m(self, X)\u001b[0m\n\u001b[0;32m    341\u001b[0m             \u001b[0mIndex\u001b[0m \u001b[0mof\u001b[0m \u001b[0mthe\u001b[0m \u001b[0mcluster\u001b[0m \u001b[0meach\u001b[0m \u001b[0msample\u001b[0m \u001b[0mbelongs\u001b[0m \u001b[0mto\u001b[0m\u001b[1;33m.\u001b[0m\u001b[1;33m\u001b[0m\u001b[1;33m\u001b[0m\u001b[0m\n\u001b[0;32m    342\u001b[0m         \"\"\"\n\u001b[1;32m--> 343\u001b[1;33m         \u001b[0mX\u001b[0m \u001b[1;33m=\u001b[0m \u001b[0mcheck_array\u001b[0m\u001b[1;33m(\u001b[0m\u001b[0mX\u001b[0m\u001b[1;33m,\u001b[0m \u001b[0maccept_sparse\u001b[0m\u001b[1;33m=\u001b[0m\u001b[1;33m[\u001b[0m\u001b[1;34m\"csr\"\u001b[0m\u001b[1;33m,\u001b[0m \u001b[1;34m\"csc\"\u001b[0m\u001b[1;33m]\u001b[0m\u001b[1;33m)\u001b[0m\u001b[1;33m\u001b[0m\u001b[1;33m\u001b[0m\u001b[0m\n\u001b[0m\u001b[0;32m    344\u001b[0m \u001b[1;33m\u001b[0m\u001b[0m\n\u001b[0;32m    345\u001b[0m         \u001b[1;32mif\u001b[0m \u001b[0mself\u001b[0m\u001b[1;33m.\u001b[0m\u001b[0mmetric\u001b[0m \u001b[1;33m==\u001b[0m \u001b[1;34m\"precomputed\"\u001b[0m\u001b[1;33m:\u001b[0m\u001b[1;33m\u001b[0m\u001b[1;33m\u001b[0m\u001b[0m\n",
      "\u001b[1;32m~\\anaconda3\\lib\\site-packages\\sklearn\\utils\\validation.py\u001b[0m in \u001b[0;36minner_f\u001b[1;34m(*args, **kwargs)\u001b[0m\n\u001b[0;32m     61\u001b[0m             \u001b[0mextra_args\u001b[0m \u001b[1;33m=\u001b[0m \u001b[0mlen\u001b[0m\u001b[1;33m(\u001b[0m\u001b[0margs\u001b[0m\u001b[1;33m)\u001b[0m \u001b[1;33m-\u001b[0m \u001b[0mlen\u001b[0m\u001b[1;33m(\u001b[0m\u001b[0mall_args\u001b[0m\u001b[1;33m)\u001b[0m\u001b[1;33m\u001b[0m\u001b[1;33m\u001b[0m\u001b[0m\n\u001b[0;32m     62\u001b[0m             \u001b[1;32mif\u001b[0m \u001b[0mextra_args\u001b[0m \u001b[1;33m<=\u001b[0m \u001b[1;36m0\u001b[0m\u001b[1;33m:\u001b[0m\u001b[1;33m\u001b[0m\u001b[1;33m\u001b[0m\u001b[0m\n\u001b[1;32m---> 63\u001b[1;33m                 \u001b[1;32mreturn\u001b[0m \u001b[0mf\u001b[0m\u001b[1;33m(\u001b[0m\u001b[1;33m*\u001b[0m\u001b[0margs\u001b[0m\u001b[1;33m,\u001b[0m \u001b[1;33m**\u001b[0m\u001b[0mkwargs\u001b[0m\u001b[1;33m)\u001b[0m\u001b[1;33m\u001b[0m\u001b[1;33m\u001b[0m\u001b[0m\n\u001b[0m\u001b[0;32m     64\u001b[0m \u001b[1;33m\u001b[0m\u001b[0m\n\u001b[0;32m     65\u001b[0m             \u001b[1;31m# extra_args > 0\u001b[0m\u001b[1;33m\u001b[0m\u001b[1;33m\u001b[0m\u001b[0m\n",
      "\u001b[1;32m~\\anaconda3\\lib\\site-packages\\sklearn\\utils\\validation.py\u001b[0m in \u001b[0;36mcheck_array\u001b[1;34m(array, accept_sparse, accept_large_sparse, dtype, order, copy, force_all_finite, ensure_2d, allow_nd, ensure_min_samples, ensure_min_features, estimator)\u001b[0m\n\u001b[0;32m    718\u001b[0m \u001b[1;33m\u001b[0m\u001b[0m\n\u001b[0;32m    719\u001b[0m         \u001b[1;32mif\u001b[0m \u001b[0mforce_all_finite\u001b[0m\u001b[1;33m:\u001b[0m\u001b[1;33m\u001b[0m\u001b[1;33m\u001b[0m\u001b[0m\n\u001b[1;32m--> 720\u001b[1;33m             _assert_all_finite(array,\n\u001b[0m\u001b[0;32m    721\u001b[0m                                allow_nan=force_all_finite == 'allow-nan')\n\u001b[0;32m    722\u001b[0m \u001b[1;33m\u001b[0m\u001b[0m\n",
      "\u001b[1;32m~\\anaconda3\\lib\\site-packages\\sklearn\\utils\\validation.py\u001b[0m in \u001b[0;36m_assert_all_finite\u001b[1;34m(X, allow_nan, msg_dtype)\u001b[0m\n\u001b[0;32m    101\u001b[0m                 not allow_nan and not np.isfinite(X).all()):\n\u001b[0;32m    102\u001b[0m             \u001b[0mtype_err\u001b[0m \u001b[1;33m=\u001b[0m \u001b[1;34m'infinity'\u001b[0m \u001b[1;32mif\u001b[0m \u001b[0mallow_nan\u001b[0m \u001b[1;32melse\u001b[0m \u001b[1;34m'NaN, infinity'\u001b[0m\u001b[1;33m\u001b[0m\u001b[1;33m\u001b[0m\u001b[0m\n\u001b[1;32m--> 103\u001b[1;33m             raise ValueError(\n\u001b[0m\u001b[0;32m    104\u001b[0m                     \u001b[0mmsg_err\u001b[0m\u001b[1;33m.\u001b[0m\u001b[0mformat\u001b[0m\u001b[1;33m\u001b[0m\u001b[1;33m\u001b[0m\u001b[0m\n\u001b[0;32m    105\u001b[0m                     (type_err,\n",
      "\u001b[1;31mValueError\u001b[0m: Input contains NaN, infinity or a value too large for dtype('float64')."
     ]
    }
   ],
   "source": [
    "complete_simu()"
   ]
  },
  {
   "cell_type": "code",
   "execution_count": 40,
   "id": "96d8d232",
   "metadata": {},
   "outputs": [
    {
     "data": {
      "image/png": "[encoded data removed]",
      "text/plain": [
       "<Figure size 1296x1296 with 4 Axes>"
      ]
     },
     "metadata": {},
     "output_type": "display_data"
    },
    {
     "data": {
      "image/png": "[encoded data removed]",
      "text/plain": [
       "<Figure size 1296x1296 with 4 Axes>"
      ]
     },
     "metadata": {},
     "output_type": "display_data"
    },
    {
     "data": {
      "image/png": "[encoded data removed]",
      "text/plain": [
       "<Figure size 1296x1296 with 4 Axes>"
      ]
     },
     "metadata": {},
     "output_type": "display_data"
    }
   ],
   "source": [
    "colors = [\"steelblue\", \"Mediumaquamarine\", \"#FFE066\", \"slateblue\", \"#FFD8A8\", \"Lightslategray\", \"grey\", \"#09F1D3\", \"#74C0FC\"]\n",
    "\n",
    "fig, axs = plt.subplots(1,4, figsize=(18,18))\n",
    "fig2, axs2 = plt.subplots(1,4, figsize=(18,18))\n",
    "fig3, axs3 = plt.subplots(1,4, figsize=(18,18))\n",
    "\n",
    "list_cost = []\n",
    "list_capa = []\n",
    "\n",
    "for i in range(12):\n",
    "    name_load_factor = \"simuvrenew\"+str(i)+\".csv\"\n",
    "    cost = pd.read_csv(\"simulations/new_complete_simulations/\"+name_load_factor+\"/\"+name_load_factor+\"_Cost.csv\", names=['vre', 'cost'])\n",
    "    capa = pd.read_csv(\"simulations/new_complete_simulations/\"+name_load_factor+\"/\"+name_load_factor+\"_Q.csv\", names=['vre', 'capa'])\n",
    "\n",
    "    y = np.array([capa[\"capa\"][1], capa[\"capa\"][2], capa[\"capa\"][3]])\n",
    "    cost = float(cost['vre'][0])\n",
    "    \n",
    "    list_cost += [cost]\n",
    "    list_capa += [y]\n",
    "    \n",
    "    if i < 4:\n",
    "        wedges, texts, autotexts = axs[i].pie(y, autopct = lambda y: str(round(y, 2)) + '%', colors=colors)\n",
    "        axs[i].set_title(str(cost) + \"  Billion €\")\n",
    "    elif i>=4 and i<8:\n",
    "        wedges, texts, autotexts = axs2[i-4].pie(y, autopct = lambda y: str(round(y, 2)) + '%', colors=colors)\n",
    "        axs2[i-4].set_title(str(cost) + \"  Billion €\")\n",
    "    else:\n",
    "        wedges, texts, autotexts = axs3[i-8].pie(y, autopct = lambda y: str(round(y, 2)) + '%', colors=colors)\n",
    "        axs3[i-8].set_title(str(cost) + \"  Billion €\")\n",
    "        \n",
    "    \n",
    "axs3[i-8].legend(wedges, [\"offshore\", \"onshore\", \"pv\"])\n",
    "\n",
    "plt.suptitle(\"Part des capacités de production des vre\", y=0.65)\n",
    "plt.show()\n",
    "\n",
    "plt.show()"
   ]
  },
  {
   "cell_type": "code",
   "execution_count": 41,
   "id": "0972299b",
   "metadata": {},
   "outputs": [
    {
     "data": {
      "image/png": "[encoded data removed]",
      "text/plain": [
       "<Figure size 432x288 with 1 Axes>"
      ]
     },
     "metadata": {
      "needs_background": "light"
     },
     "output_type": "display_data"
    }
   ],
   "source": [
    "plt.boxplot(list_cost)\n",
    "plt.title('Cost variations')\n",
    "plt.ylabel('Cost in Billions €')\n",
    "plt.xticks([1], ['Production years'])\n",
    "plt.show()"
   ]
  },
  {
   "cell_type": "code",
   "execution_count": 20,
   "id": "a7d5fc6d",
   "metadata": {},
   "outputs": [
    {
     "data": {
      "text/plain": [
       "array([20., 20., 20., 20., 20., 20., 20., 20., 20., 20., 20., 20.])"
      ]
     },
     "execution_count": 20,
     "metadata": {},
     "output_type": "execute_result"
    }
   ],
   "source": [
    "list_capa[:,0]"
   ]
  },
  {
   "cell_type": "code",
   "execution_count": 34,
   "id": "6b8b6e4c",
   "metadata": {},
   "outputs": [
    {
     "data": {
      "image/png": "[encoded data removed]",
      "text/plain": [
       "<Figure size 432x288 with 1 Axes>"
      ]
     },
     "metadata": {
      "needs_background": "light"
     },
     "output_type": "display_data"
    }
   ],
   "source": [
    "list_capa = np.array(list_capa)\n",
    "plt.boxplot(list_capa)\n",
    "plt.title('Boxplot of installed capacities for 12 years')\n",
    "plt.xticks([1, 2, 3], ['Offshore', 'Onshore', 'Solar'])\n",
    "plt.ylabel('Capacties')\n",
    "plt.show()"
   ]
  },
  {
   "cell_type": "code",
   "execution_count": null,
   "id": "4614c212",
   "metadata": {},
   "outputs": [],
   "source": []
  }
 ],
 "metadata": {
  "kernelspec": {
   "display_name": "Python 3 (ipykernel)",
   "language": "python",
   "name": "python3"
  },
  "language_info": {
   "codemirror_mode": {
    "name": "ipython",
    "version": 3
   },
   "file_extension": ".py",
   "mimetype": "text/x-python",
   "name": "python",
   "nbconvert_exporter": "python",
   "pygments_lexer": "ipython3",
   "version": "3.9.7"
  }
 },
 "nbformat": 4,
 "nbformat_minor": 5
}
