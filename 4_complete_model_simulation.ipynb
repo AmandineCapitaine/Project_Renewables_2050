{
 "cells": [
  {
   "cell_type": "markdown",
   "id": "1969b5fb",
   "metadata": {},
   "source": [
    "# Projet de modélisation d'un mix énergétique issu 100% d'ENR"
   ]
  },
  {
   "cell_type": "markdown",
   "id": "44e05a1f",
   "metadata": {},
   "source": [
    "## IV. Simulations du modèle complet sur l'optimisation du coût du mix énergétique"
   ]
  },
  {
   "cell_type": "markdown",
   "id": "28937db7",
   "metadata": {},
   "source": [
    "### Imports"
   ]
  },
  {
   "cell_type": "code",
   "execution_count": 5,
   "id": "82d711be",
   "metadata": {},
   "outputs": [],
   "source": [
    "import numpy as np \n",
    "import pandas as pd\n",
    "import matplotlib.pyplot as plt\n",
    "import csv\n",
    "import time\n",
    "import sys\n",
    "\n",
    "# Imports pour pyomo\n",
    "import pyomo.environ as pyo\n",
    "from pyomo.opt import SolverFactory\n",
    "\n",
    "from ipywidgets import interactive, interact_manual\n",
    "import ipywidgets as widgets\n",
    "\n",
    "from matplotlib.figure import Figure\n",
    "from matplotlib.backends.backend_agg import FigureCanvas"
   ]
  },
  {
   "cell_type": "markdown",
   "id": "ac312144",
   "metadata": {},
   "source": [
    "### 1. Utils"
   ]
  },
  {
   "cell_type": "code",
   "execution_count": 7,
   "id": "5ef4c013",
   "metadata": {},
   "outputs": [],
   "source": [
    "def affichage(simu):\n",
    "    print(\" --- Q ---\")\n",
    "    for i in simu.model.Q:\n",
    "        print(i,\" : \",pyo.value(simu.model.Q[i]))   \n",
    "    print(\" --- S ---\")   \n",
    "    for i in simu.model.S:\n",
    "        print(i,\" : \",pyo.value(simu.model.S[i]))\n",
    "    print(\" --- volume ---\")\n",
    "    for i in simu.model.volume:\n",
    "        print(i,\" : \",pyo.value(simu.model.volume[i]))\n",
    "    print(\" --- cost --- \")\n",
    "    print(simu.cost())"
   ]
  },
  {
   "cell_type": "markdown",
   "id": "3a347019",
   "metadata": {},
   "source": [
    "### 2. Simulations du modèle complet\n",
    "Optimisation des variables Q, S et VOLUME  \n",
    "Optimisation du mix énergétique"
   ]
  },
  {
   "cell_type": "markdown",
   "id": "ccfded99",
   "metadata": {},
   "source": [
    "### <span style=\"color:blue\">-------------------------------------------------------------------------------------------------------------------------------------------------------</span>\n",
    "### <span style=\"color:blue\">A exécuter si on n'a pas le dossier Simulations_completes</span>"
   ]
  },
  {
   "cell_type": "code",
   "execution_count": 2,
   "id": "125210d0",
   "metadata": {},
   "outputs": [],
   "source": [
    "from complete_model import complete_model"
   ]
  },
  {
   "cell_type": "markdown",
   "id": "ecec34ec",
   "metadata": {},
   "source": [
    "##### RTE Demand"
   ]
  },
  {
   "cell_type": "code",
   "execution_count": 6,
   "id": "fecdbd31",
   "metadata": {},
   "outputs": [
    {
     "name": "stdout",
     "output_type": "stream",
     "text": [
      "Chargement des paramètres ...\n",
      "vre_profiles2006.csv\n",
      "demand2050_rte.csv\n",
      "Initialisation des sets...\n",
      "Définition des variables à optimiser ...\n",
      "Ajout des contraintes ...\n",
      "Optimisation ...\n",
      "Simulation du modèle faite avec succès ! \n",
      " --- Q ---\n",
      "offshore  :  20.0\n",
      "onshore  :  120.0\n",
      "pv  :  153.59165\n",
      "river  :  7.5\n",
      "lake  :  12.855\n",
      "biogas  :  37.009384\n",
      "phs  :  6.3936009\n",
      "battery  :  33.875077\n",
      "methanation  :  10.828085\n",
      " --- S ---\n",
      "phs  :  6.2\n",
      "battery  :  33.875077\n",
      "methanation  :  10.991424\n",
      " --- volume ---\n",
      "phs  :  135.5\n",
      "battery  :  186.77956\n",
      "methanation  :  14356.455\n",
      " --- cost --- \n",
      "   COST (billion euros)  Cost per MWh produced (euros/MWh)\n",
      "0             29.214223                           0.000041\n"
     ]
    }
   ],
   "source": [
    "simu = complete_model()\n",
    "simu.load_param(\"inputs/\", \"vre_profiles2006.csv\", \"demand2050_rte.csv\")\n",
    "simu.run()\n",
    "affichage(simu)"
   ]
  },
  {
   "cell_type": "code",
   "execution_count": 8,
   "id": "94a2abbc",
   "metadata": {},
   "outputs": [
    {
     "name": "stdout",
     "output_type": "stream",
     "text": [
      "Ecriture des résultats ...\n"
     ]
    }
   ],
   "source": [
    "res = simu.write_results('simu_vre2006_rte', \"vre_profiles2006.csv\", \"demand2050_rte.csv\")"
   ]
  },
  {
   "cell_type": "markdown",
   "id": "e91229e4",
   "metadata": {},
   "source": [
    "##### Négawatt Demand"
   ]
  },
  {
   "cell_type": "code",
   "execution_count": 9,
   "id": "7b32db55",
   "metadata": {},
   "outputs": [
    {
     "name": "stdout",
     "output_type": "stream",
     "text": [
      "Chargement des paramètres ...\n",
      "vre_profiles2006.csv\n",
      "demand2050_negawatt.csv\n",
      "Initialisation des sets...\n",
      "Définition des variables à optimiser ...\n",
      "Ajout des contraintes ...\n",
      "Optimisation ...\n",
      "Simulation du modèle faite avec succès ! \n",
      " --- Q ---\n",
      "offshore  :  9.2239321\n",
      "onshore  :  35.15871\n",
      "pv  :  69.845503\n",
      "river  :  7.5\n",
      "lake  :  12.855\n",
      "biogas  :  16.977882\n",
      "phs  :  3.8188521\n",
      "battery  :  7.6920888\n",
      "methanation  :  6.8141513e-06\n",
      " --- S ---\n",
      "phs  :  6.2\n",
      "battery  :  7.6920888\n",
      "methanation  :  -1.1730846e-06\n",
      " --- volume ---\n",
      "phs  :  135.5\n",
      "battery  :  35.682393\n",
      "methanation  :  0.0011505466\n",
      " --- cost --- \n",
      "   COST (billion euros)  Cost per MWh produced (euros/MWh)\n",
      "0             10.495222                           0.000034\n"
     ]
    }
   ],
   "source": [
    "simu0 = complete_model()\n",
    "simu0.load_param(\"inputs/\", \"vre_profiles2006.csv\", \"demand2050_negawatt.csv\")\n",
    "simu0.run()\n",
    "affichage(simu0)"
   ]
  },
  {
   "cell_type": "code",
   "execution_count": 10,
   "id": "951f65db",
   "metadata": {},
   "outputs": [
    {
     "name": "stdout",
     "output_type": "stream",
     "text": [
      "Ecriture des résultats ...\n"
     ]
    }
   ],
   "source": [
    "res0 = simu0.write_results('simu_vre2006_nega', \"vre_profiles2006.csv\", \"demand2050_negawatt.csv\")"
   ]
  },
  {
   "cell_type": "markdown",
   "id": "cf9bb4f0",
   "metadata": {},
   "source": [
    "##### ADEME Demand"
   ]
  },
  {
   "cell_type": "code",
   "execution_count": 11,
   "id": "871db1f8",
   "metadata": {},
   "outputs": [
    {
     "name": "stdout",
     "output_type": "stream",
     "text": [
      "Chargement des paramètres ...\n",
      "vre_profiles2006.csv\n",
      "demand2050_ademe.csv\n",
      "Initialisation des sets...\n",
      "Définition des variables à optimiser ...\n",
      "Ajout des contraintes ...\n",
      "Optimisation ...\n",
      "Simulation du modèle faite avec succès ! \n",
      " --- Q ---\n",
      "offshore  :  20.0\n",
      "onshore  :  70.230296\n",
      "pv  :  113.03217\n",
      "river  :  7.5\n",
      "lake  :  12.855\n",
      "biogas  :  36.785692\n",
      "phs  :  5.7047562\n",
      "battery  :  13.343201\n",
      "methanation  :  10.745931\n",
      " --- S ---\n",
      "phs  :  6.2\n",
      "battery  :  13.343201\n",
      "methanation  :  7.5578362\n",
      " --- volume ---\n",
      "phs  :  135.5\n",
      "battery  :  64.603839\n",
      "methanation  :  8181.5733\n",
      " --- cost --- \n",
      "   COST (billion euros)  Cost per MWh produced (euros/MWh)\n",
      "0             19.801001                           0.000038\n"
     ]
    }
   ],
   "source": [
    "simu1 = complete_model()\n",
    "simu1.load_param(\"inputs/\", \"vre_profiles2006.csv\", \"demand2050_ademe.csv\")\n",
    "simu1.run()\n",
    "affichage(simu1)"
   ]
  },
  {
   "cell_type": "code",
   "execution_count": 12,
   "id": "2a19a7fd",
   "metadata": {},
   "outputs": [
    {
     "name": "stdout",
     "output_type": "stream",
     "text": [
      "Ecriture des résultats ...\n"
     ]
    }
   ],
   "source": [
    "res1 = simu1.write_results('simu_vre2006_ademe', \"vre_profiles2006.csv\", \"demand2050_ademe.csv\")"
   ]
  },
  {
   "cell_type": "markdown",
   "id": "7e253de3",
   "metadata": {},
   "source": [
    "##### SImulation demand 2006 with production year 2006"
   ]
  },
  {
   "cell_type": "code",
   "execution_count": 13,
   "id": "3042899e",
   "metadata": {},
   "outputs": [
    {
     "name": "stdout",
     "output_type": "stream",
     "text": [
      "Chargement des paramètres ...\n",
      "vre_profiles2006.csv\n",
      "demand2006.csv\n",
      "Initialisation des sets...\n",
      "Définition des variables à optimiser ...\n",
      "Ajout des contraintes ...\n",
      "Optimisation ...\n",
      "Simulation du modèle faite avec succès ! \n",
      " --- Q ---\n",
      "offshore  :  20.0\n",
      "onshore  :  96.928942\n",
      "pv  :  111.63747\n",
      "river  :  7.5\n",
      "lake  :  12.855\n",
      "biogas  :  38.02888\n",
      "phs  :  5.8387458\n",
      "battery  :  16.849963\n",
      "methanation  :  11.192881\n",
      " --- S ---\n",
      "phs  :  6.2\n",
      "battery  :  16.849963\n",
      "methanation  :  8.8512386\n",
      " --- volume ---\n",
      "phs  :  135.5\n",
      "battery  :  89.873494\n",
      "methanation  :  12928.6\n",
      " --- cost --- \n",
      "   COST (billion euros)  Cost per MWh produced (euros/MWh)\n",
      "0             23.276694                           0.000039\n"
     ]
    }
   ],
   "source": [
    "simu2 = complete_model()\n",
    "simu2.load_param(\"inputs/\", \"vre_profiles2006.csv\", \"demand2006.csv\")\n",
    "simu2.run()\n",
    "affichage(simu2)"
   ]
  },
  {
   "cell_type": "code",
   "execution_count": 14,
   "id": "16a64875",
   "metadata": {},
   "outputs": [
    {
     "name": "stdout",
     "output_type": "stream",
     "text": [
      "Ecriture des résultats ...\n"
     ]
    }
   ],
   "source": [
    "res2 = simu2.write_results('simu_vre2006_d2006', \"vre_profiles2006.csv\", \"demand2006.csv\")"
   ]
  },
  {
   "cell_type": "markdown",
   "id": "a24dc840",
   "metadata": {},
   "source": [
    "##### SImulation new production year with typical days"
   ]
  },
  {
   "cell_type": "code",
   "execution_count": 15,
   "id": "1125a813",
   "metadata": {},
   "outputs": [
    {
     "name": "stdout",
     "output_type": "stream",
     "text": [
      "Chargement des paramètres ...\n",
      "vrenew_typical_days_new_trend_2006.csv\n",
      "demand2050_rte.csv\n",
      "Initialisation des sets...\n",
      "Définition des variables à optimiser ...\n",
      "Ajout des contraintes ...\n",
      "Optimisation ...\n",
      "Simulation du modèle faite avec succès ! \n",
      " --- Q ---\n",
      "offshore  :  20.0\n",
      "onshore  :  120.0\n",
      "pv  :  133.3451\n",
      "river  :  7.5\n",
      "lake  :  12.855\n",
      "biogas  :  12.562493\n",
      "phs  :  6.9183834\n",
      "battery  :  27.34422\n",
      "methanation  :  23.683933\n",
      " --- S ---\n",
      "phs  :  6.2\n",
      "battery  :  27.34422\n",
      "methanation  :  10.154642\n",
      " --- volume ---\n",
      "phs  :  135.5\n",
      "battery  :  139.28016\n",
      "methanation  :  25525.281\n",
      " --- cost --- \n",
      "   COST (billion euros)  Cost per MWh produced (euros/MWh)\n",
      "0              27.68108                            0.00004\n"
     ]
    }
   ],
   "source": [
    "simu3 = complete_model()\n",
    "simu3.load_param(\"inputs/\", \"vrenew_typical_days_new_trend_2006.csv\", \"demand2050_rte.csv\")\n",
    "simu3.run()\n",
    "affichage(simu3)"
   ]
  },
  {
   "cell_type": "code",
   "execution_count": 17,
   "id": "08a26535",
   "metadata": {},
   "outputs": [
    {
     "name": "stdout",
     "output_type": "stream",
     "text": [
      "Ecriture des résultats ...\n"
     ]
    }
   ],
   "source": [
    "res3 = simu3.write_results('simu_td2006_rte', \"vrenew_typical_days_new_trend_2006.csv\", \"demand2050_rte.csv\")"
   ]
  },
  {
   "cell_type": "code",
   "execution_count": 18,
   "id": "6c715b94",
   "metadata": {},
   "outputs": [
    {
     "name": "stdout",
     "output_type": "stream",
     "text": [
      "Chargement des paramètres ...\n",
      "vrenew_typical_days_new_trend_2006.csv\n",
      "demand2050_ademe.csv\n",
      "Initialisation des sets...\n",
      "Définition des variables à optimiser ...\n",
      "Ajout des contraintes ...\n",
      "Optimisation ...\n",
      "Simulation du modèle faite avec succès ! \n",
      " --- Q ---\n",
      "offshore  :  20.0\n",
      "onshore  :  68.86535\n",
      "pv  :  102.8958\n",
      "river  :  7.5\n",
      "lake  :  12.855\n",
      "biogas  :  100.0\n",
      "phs  :  6.0456196\n",
      "battery  :  11.597403\n",
      "methanation  :  100.0\n",
      " --- S ---\n",
      "phs  :  6.2\n",
      "battery  :  11.597403\n",
      "methanation  :  6.1049549\n",
      " --- volume ---\n",
      "phs  :  135.5\n",
      "battery  :  52.117602\n",
      "methanation  :  9344.6234\n",
      " --- cost --- \n",
      "   COST (billion euros)  Cost per MWh produced (euros/MWh)\n",
      "0             18.879165                           0.000038\n"
     ]
    }
   ],
   "source": [
    "simu4 = complete_model()\n",
    "simu4.load_param(\"inputs/\", \"vrenew_typical_days_new_trend_2006.csv\", \"demand2050_ademe.csv\")\n",
    "simu4.run()\n",
    "affichage(simu4)"
   ]
  },
  {
   "cell_type": "code",
   "execution_count": 19,
   "id": "1772ac56",
   "metadata": {},
   "outputs": [
    {
     "name": "stdout",
     "output_type": "stream",
     "text": [
      "Ecriture des résultats ...\n"
     ]
    }
   ],
   "source": [
    "res4 = simu4.write_results('simu_td2006_ademe', \"vrenew_typical_days_new_trend_2006.csv\", \"demand2050_ademe.csv\")"
   ]
  },
  {
   "cell_type": "code",
   "execution_count": 20,
   "id": "eeb314e9",
   "metadata": {},
   "outputs": [
    {
     "name": "stdout",
     "output_type": "stream",
     "text": [
      "Chargement des paramètres ...\n",
      "vrenew_typical_days_new_trend_2006.csv\n",
      "demand2050_negawatt.csv\n",
      "Initialisation des sets...\n",
      "Définition des variables à optimiser ...\n",
      "Ajout des contraintes ...\n",
      "Optimisation ...\n",
      "Simulation du modèle faite avec succès ! \n",
      " --- Q ---\n",
      "offshore  :  8.3844081\n",
      "onshore  :  39.8228\n",
      "pv  :  56.005471\n",
      "river  :  7.5\n",
      "lake  :  12.855\n",
      "biogas  :  13.13401\n",
      "phs  :  4.4422619\n",
      "battery  :  4.3007106\n",
      "methanation  :  -4.0408764e-08\n",
      " --- S ---\n",
      "phs  :  6.2\n",
      "battery  :  4.3007106\n",
      "methanation  :  -8.8696267e-07\n",
      " --- volume ---\n",
      "phs  :  135.5\n",
      "battery  :  13.206684\n",
      "methanation  :  0.00043261572\n",
      " --- cost --- \n",
      "   COST (billion euros)  Cost per MWh produced (euros/MWh)\n",
      "0             10.029627                           0.000034\n"
     ]
    }
   ],
   "source": [
    "simu5 = complete_model()\n",
    "simu5.load_param(\"inputs/\", \"vrenew_typical_days_new_trend_2006.csv\", \"demand2050_negawatt.csv\")\n",
    "simu5.run()\n",
    "affichage(simu5)"
   ]
  },
  {
   "cell_type": "code",
   "execution_count": 21,
   "id": "95805dd7",
   "metadata": {},
   "outputs": [
    {
     "name": "stdout",
     "output_type": "stream",
     "text": [
      "Ecriture des résultats ...\n"
     ]
    }
   ],
   "source": [
    "res5 = simu5.write_results('simu_td2006_nega', \"vrenew_typical_days_new_trend_2006.csv\", \"demand2050_negawatt.csv\")"
   ]
  },
  {
   "cell_type": "code",
   "execution_count": 22,
   "id": "bc84a332",
   "metadata": {},
   "outputs": [
    {
     "name": "stdout",
     "output_type": "stream",
     "text": [
      "Chargement des paramètres ...\n",
      "vrenew_typical_days_new_trend_2006.csv\n",
      "demand2006.csv\n",
      "Initialisation des sets...\n",
      "Définition des variables à optimiser ...\n",
      "Ajout des contraintes ...\n",
      "Optimisation ...\n",
      "Simulation du modèle faite avec succès ! \n",
      " --- Q ---\n",
      "offshore  :  20.0\n",
      "onshore  :  94.531141\n",
      "pv  :  99.077313\n",
      "river  :  7.5\n",
      "lake  :  12.855\n",
      "biogas  :  12.374523\n",
      "phs  :  6.4891041\n",
      "battery  :  13.863512\n",
      "methanation  :  22.722664\n",
      " --- S ---\n",
      "phs  :  6.2\n",
      "battery  :  13.863512\n",
      "methanation  :  8.8184852\n",
      " --- volume ---\n",
      "phs  :  135.5\n",
      "battery  :  63.80723\n",
      "methanation  :  23079.58\n",
      " --- cost --- \n",
      "   COST (billion euros)  Cost per MWh produced (euros/MWh)\n",
      "0             22.197027                           0.000039\n"
     ]
    }
   ],
   "source": [
    "simu6 = complete_model()\n",
    "simu6.load_param(\"inputs/\", \"vrenew_typical_days_new_trend_2006.csv\", \"demand2006.csv\")\n",
    "simu6.run()\n",
    "affichage(simu6)"
   ]
  },
  {
   "cell_type": "code",
   "execution_count": 23,
   "id": "9ac50f8e",
   "metadata": {},
   "outputs": [
    {
     "name": "stdout",
     "output_type": "stream",
     "text": [
      "Ecriture des résultats ...\n"
     ]
    }
   ],
   "source": [
    "res6 = simu6.write_results('simu_td2006_d2006', \"vrenew_typical_days_new_trend_2006.csv\", \"demand2006.csv\")"
   ]
  },
  {
   "cell_type": "code",
   "execution_count": 19,
   "id": "b6b8fda1",
   "metadata": {},
   "outputs": [
    {
     "name": "stdout",
     "output_type": "stream",
     "text": [
      "Chargement des paramètres ...\n",
      "vrenew_fourier_profile.csv\n",
      "demand2050_ademe.csv\n",
      "Initialisation des sets...\n",
      "Définition des variables à optimiser ...\n",
      "Ajout des contraintes ...\n",
      "Optimisation ...\n",
      "Simulation du modèle faite avec succès ! \n",
      " --- Q ---\n",
      "offshore  :  20.0\n",
      "onshore  :  74.405287\n",
      "pv  :  85.995392\n",
      "river  :  7.5\n",
      "lake  :  12.855\n",
      "biogas  :  18.903713\n",
      "phs  :  5.9335914\n",
      "battery  :  7.2473175\n",
      "methanation  :  24.198772\n",
      " --- S ---\n",
      "phs  :  6.2\n",
      "battery  :  7.2473175\n",
      "methanation  :  4.5323527\n",
      " --- volume ---\n",
      "phs  :  135.5\n",
      "battery  :  25.050954\n",
      "methanation  :  4452.0403\n",
      " --- cost --- \n",
      "   COST (billion euros)  Cost per MWh produced (euros/MWh)\n",
      "0             18.220577                           0.000037\n"
     ]
    }
   ],
   "source": [
    "simu6 = complete_model()\n",
    "simu6.load_param(\"inputs/\", \"vrenew_fourier_profile.csv\", \"demand2050_ademe.csv\")\n",
    "simu6.run()\n",
    "affichage(simu6)"
   ]
  },
  {
   "cell_type": "code",
   "execution_count": 20,
   "id": "2c9f7b49",
   "metadata": {},
   "outputs": [
    {
     "name": "stdout",
     "output_type": "stream",
     "text": [
      "Ecriture des résultats ...\n"
     ]
    }
   ],
   "source": [
    "res6 = simu6.write_results('simu_fourier_ademe', \"vrenew_fourier_profile.csv\", \"demand2050_ademe.csv\")"
   ]
  },
  {
   "cell_type": "code",
   "execution_count": 21,
   "id": "b030fac5",
   "metadata": {},
   "outputs": [
    {
     "name": "stdout",
     "output_type": "stream",
     "text": [
      "Chargement des paramètres ...\n",
      "vrenew_fourier_profile.csv\n",
      "demand2050_rte.csv\n",
      "Initialisation des sets...\n",
      "Définition des variables à optimiser ...\n",
      "Ajout des contraintes ...\n",
      "Optimisation ...\n",
      "Simulation du modèle faite avec succès ! \n",
      " --- Q ---\n",
      "offshore  :  20.0\n",
      "onshore  :  119.99604\n",
      "pv  :  128.05585\n",
      "river  :  7.5\n",
      "lake  :  12.855\n",
      "biogas  :  100.0\n",
      "phs  :  5.8281103\n",
      "battery  :  24.957722\n",
      "methanation  :  100.0\n",
      " --- S ---\n",
      "phs  :  6.2\n",
      "battery  :  24.957722\n",
      "methanation  :  10.987952\n",
      " --- volume ---\n",
      "phs  :  135.5\n",
      "battery  :  129.78697\n",
      "methanation  :  7967.1378\n",
      " --- cost --- \n",
      "   COST (billion euros)  Cost per MWh produced (euros/MWh)\n",
      "0             27.412874                            0.00004\n"
     ]
    }
   ],
   "source": [
    "simu6 = complete_model()\n",
    "simu6.load_param(\"inputs/\", \"vrenew_fourier_profile.csv\", \"demand2050_rte.csv\")\n",
    "simu6.run()\n",
    "affichage(simu6)"
   ]
  },
  {
   "cell_type": "code",
   "execution_count": 22,
   "id": "ac347ab0",
   "metadata": {},
   "outputs": [
    {
     "name": "stdout",
     "output_type": "stream",
     "text": [
      "Ecriture des résultats ...\n"
     ]
    }
   ],
   "source": [
    "res6 = simu6.write_results('simu_fourier_rte', \"vrenew_fourier_profile.csv\", \"demand2050_rte.csv\")"
   ]
  },
  {
   "cell_type": "code",
   "execution_count": 23,
   "id": "4098ddb7",
   "metadata": {},
   "outputs": [
    {
     "name": "stdout",
     "output_type": "stream",
     "text": [
      "Chargement des paramètres ...\n",
      "vrenew_fourier_profile.csv\n",
      "demand2050_negawatt.csv\n",
      "Initialisation des sets...\n",
      "Définition des variables à optimiser ...\n",
      "Ajout des contraintes ...\n",
      "Optimisation ...\n",
      "Simulation du modèle faite avec succès ! \n",
      " --- Q ---\n",
      "offshore  :  16.123495\n",
      "onshore  :  28.772462\n",
      "pv  :  52.677768\n",
      "river  :  7.5\n",
      "lake  :  12.855\n",
      "biogas  :  17.757525\n",
      "phs  :  4.9345641\n",
      "battery  :  2.2152677\n",
      "methanation  :  0.0\n",
      " --- S ---\n",
      "phs  :  6.2\n",
      "battery  :  2.2152677\n",
      "methanation  :  -2.174031e-08\n",
      " --- volume ---\n",
      "phs  :  135.5\n",
      "battery  :  6.092101\n",
      "methanation  :  3.2791935e-05\n",
      " --- cost --- \n",
      "   COST (billion euros)  Cost per MWh produced (euros/MWh)\n",
      "0             10.043325                           0.000034\n"
     ]
    }
   ],
   "source": [
    "simu6 = complete_model()\n",
    "simu6.load_param(\"inputs/\", \"vrenew_fourier_profile.csv\", \"demand2050_negawatt.csv\")\n",
    "simu6.run()\n",
    "affichage(simu6)"
   ]
  },
  {
   "cell_type": "code",
   "execution_count": 24,
   "id": "a42829a2",
   "metadata": {},
   "outputs": [
    {
     "name": "stdout",
     "output_type": "stream",
     "text": [
      "Ecriture des résultats ...\n"
     ]
    }
   ],
   "source": [
    "res6 = simu6.write_results('simu_fourier_nega', \"vrenew_fourier_profile.csv\", \"demand2050_negawatt.csv\")"
   ]
  },
  {
   "cell_type": "code",
   "execution_count": 25,
   "id": "69a2b677",
   "metadata": {},
   "outputs": [
    {
     "name": "stdout",
     "output_type": "stream",
     "text": [
      "Chargement des paramètres ...\n",
      "vrenew_fourier_profile.csv\n",
      "demand2006.csv\n",
      "Initialisation des sets...\n",
      "Définition des variables à optimiser ...\n",
      "Ajout des contraintes ...\n",
      "Optimisation ...\n",
      "Simulation du modèle faite avec succès ! \n",
      " --- Q ---\n",
      "offshore  :  20.0\n",
      "onshore  :  98.540984\n",
      "pv  :  82.813888\n",
      "river  :  7.5\n",
      "lake  :  12.855\n",
      "biogas  :  15.052778\n",
      "phs  :  5.9824917\n",
      "battery  :  9.6037475\n",
      "methanation  :  40.854729\n",
      " --- S ---\n",
      "phs  :  6.2\n",
      "battery  :  9.6037475\n",
      "methanation  :  6.1540465\n",
      " --- volume ---\n",
      "phs  :  135.5\n",
      "battery  :  41.27661\n",
      "methanation  :  4734.1399\n",
      " --- cost --- \n",
      "   COST (billion euros)  Cost per MWh produced (euros/MWh)\n",
      "0             21.268006                           0.000038\n"
     ]
    }
   ],
   "source": [
    "simu6 = complete_model()\n",
    "simu6.load_param(\"inputs/\", \"vrenew_fourier_profile.csv\", \"demand2006.csv\")\n",
    "simu6.run()\n",
    "affichage(simu6)"
   ]
  },
  {
   "cell_type": "code",
   "execution_count": 27,
   "id": "72168fc7",
   "metadata": {},
   "outputs": [
    {
     "name": "stdout",
     "output_type": "stream",
     "text": [
      "Ecriture des résultats ...\n"
     ]
    },
    {
     "ename": "FileExistsError",
     "evalue": "[Errno 17] File exists: 'simu_fourier_d2006/simu_fourier_d2006_init_data.txt'",
     "output_type": "error",
     "traceback": [
      "\u001b[1;31m---------------------------------------------------------------------------\u001b[0m",
      "\u001b[1;31mFileExistsError\u001b[0m                           Traceback (most recent call last)",
      "\u001b[1;32m~\\AppData\\Local\\Temp/ipykernel_15316/1809537132.py\u001b[0m in \u001b[0;36m<module>\u001b[1;34m\u001b[0m\n\u001b[1;32m----> 1\u001b[1;33m \u001b[0mres6\u001b[0m \u001b[1;33m=\u001b[0m \u001b[0msimu6\u001b[0m\u001b[1;33m.\u001b[0m\u001b[0mwrite_results\u001b[0m\u001b[1;33m(\u001b[0m\u001b[1;34m'simu_fourier_d2006'\u001b[0m\u001b[1;33m,\u001b[0m \u001b[1;34m\"vrenew_fourier_profile.csv\"\u001b[0m\u001b[1;33m,\u001b[0m \u001b[1;34m\"demand2006.csv\"\u001b[0m\u001b[1;33m)\u001b[0m\u001b[1;33m\u001b[0m\u001b[1;33m\u001b[0m\u001b[0m\n\u001b[0m",
      "\u001b[1;32m~\\OneDrive - insa-toulouse.fr\\Documents\\INSA\\4A\\4A.Stage\\4A.Stage.Codes_ENR\\complete_model.py\u001b[0m in \u001b[0;36mwrite_results\u001b[1;34m(self, model_name, name_load_demand, name_load_factor)\u001b[0m\n\u001b[0;32m    383\u001b[0m         \u001b[1;31m# Initialisation DATA\u001b[0m\u001b[1;33m\u001b[0m\u001b[1;33m\u001b[0m\u001b[0m\n\u001b[0;32m    384\u001b[0m         \u001b[0mI_file\u001b[0m \u001b[1;33m=\u001b[0m \u001b[0mmodel_name\u001b[0m \u001b[1;33m+\u001b[0m \u001b[1;34m\"/\"\u001b[0m \u001b[1;33m+\u001b[0m \u001b[0mmodel_name\u001b[0m \u001b[1;33m+\u001b[0m \u001b[1;34m\"_init_data.txt\"\u001b[0m\u001b[1;33m\u001b[0m\u001b[1;33m\u001b[0m\u001b[0m\n\u001b[1;32m--> 385\u001b[1;33m         \u001b[1;32mwith\u001b[0m \u001b[0mopen\u001b[0m\u001b[1;33m(\u001b[0m\u001b[0mI_file\u001b[0m\u001b[1;33m,\u001b[0m \u001b[1;34m'x'\u001b[0m\u001b[1;33m)\u001b[0m \u001b[1;32mas\u001b[0m \u001b[0mdata_I\u001b[0m \u001b[1;33m:\u001b[0m\u001b[1;33m\u001b[0m\u001b[1;33m\u001b[0m\u001b[0m\n\u001b[0m\u001b[0;32m    386\u001b[0m             \u001b[0mdata_I\u001b[0m\u001b[1;33m.\u001b[0m\u001b[0mwrite\u001b[0m\u001b[1;33m(\u001b[0m\u001b[1;34m\"Demand : \"\u001b[0m \u001b[1;33m+\u001b[0m \u001b[0mname_load_demand\u001b[0m \u001b[1;33m+\u001b[0m \u001b[1;34m\"  Production : \"\u001b[0m \u001b[1;33m+\u001b[0m \u001b[0mname_load_factor\u001b[0m\u001b[1;33m)\u001b[0m\u001b[1;33m\u001b[0m\u001b[1;33m\u001b[0m\u001b[0m\n\u001b[0;32m    387\u001b[0m \u001b[1;33m\u001b[0m\u001b[0m\n",
      "\u001b[1;31mFileExistsError\u001b[0m: [Errno 17] File exists: 'simu_fourier_d2006/simu_fourier_d2006_init_data.txt'"
     ]
    }
   ],
   "source": [
    "res6 = simu6.write_results('simu_fourier_d2006', \"vrenew_fourier_profile.csv\", \"demand2006.csv\")"
   ]
  },
  {
   "cell_type": "markdown",
   "id": "51fe42fe",
   "metadata": {},
   "source": [
    "#### Résultats \n",
    "\n",
    "vre_profiles2006.csv  \n",
    "Demande 2006  \n",
    "COST (billion euros) 23.276694\n",
    "\n",
    "vrenew_fourier.csv  \n",
    "Demande 2006  \n",
    "COST (billion euros) 24.529635\n",
    "\n",
    "vrenew_moyennes.csv  \n",
    "Demande 2006  \n",
    "COST (billion euros) 22.999705\n",
    "\n",
    "vrenew_moyennes_solaire.csv  \n",
    "Demande 2006  \n",
    "COST (billion euros) 23.298378  \n",
    "\n",
    "vrenew_typical_days.csv  \n",
    "Demande 2006  \n",
    "COST (billion euros) 21.747864   \n",
    "\n",
    "// avec modélisation des tendances 20.760234 avec 18 clusters       \n",
    "// avec modélisation des tendances 20.373473 avec 12 clusters     21.206023   \n",
    "// avec modélisation des tendances 19.313955 avec 6  clusters"
   ]
  },
  {
   "cell_type": "markdown",
   "id": "6a917be8",
   "metadata": {},
   "source": [
    "### <span style=\"color:blue\">-------------------------------------------------------------------------------------------------------------------------------------------------------</span>"
   ]
  },
  {
   "cell_type": "markdown",
   "id": "13af34f8",
   "metadata": {},
   "source": [
    "### 3. Affichage des résultats avec le modèle complet"
   ]
  },
  {
   "cell_type": "code",
   "execution_count": 4,
   "id": "fb745571",
   "metadata": {},
   "outputs": [],
   "source": [
    "from complete_model import show_simu"
   ]
  },
  {
   "cell_type": "code",
   "execution_count": 5,
   "id": "ff52b461",
   "metadata": {},
   "outputs": [
    {
     "data": {
      "application/vnd.jupyter.widget-view+json": {
       "model_id": "cc3f9d4b283d4a19810a1de97af20054",
       "version_major": 2,
       "version_minor": 0
      },
      "text/plain": [
       "interactive(children=(IntText(value=1, description='week'), Dropdown(description='name', options=('2006_ademe'…"
      ]
     },
     "metadata": {},
     "output_type": "display_data"
    },
    {
     "data": {
      "text/plain": [
       "<function complete_model.show_simu(week, name, opti=True)>"
      ]
     },
     "execution_count": 5,
     "metadata": {},
     "output_type": "execute_result"
    }
   ],
   "source": [
    "noms_simu = ['2006_ademe', '2006_rte', '2006_nega',\n",
    "             '2010_ademe', '2010_rte', '2010_nega',\n",
    "             '2011_ademe', '2011_rte', '2011_nega',\n",
    "             '2012_ademe', '2012_rte', '2012_nega',\n",
    "             '2013_ademe', '2013_rte', '2013_nega',\n",
    "             '2015_ademe', '2015_rte', '2015_nega',\n",
    "             '2016_ademe', '2016_rte', '2016_nega',\n",
    "             '2017_ademe', '2017_rte', '2017_nega',]\n",
    "# Dashboard\n",
    "interactive_plot = interact_manual(show_simu, week=widgets.IntText(value = 1), name = noms_simu, opti=False)\n",
    "interactive_plot"
   ]
  },
  {
   "cell_type": "code",
   "execution_count": 6,
   "id": "41a6c893",
   "metadata": {},
   "outputs": [
    {
     "data": {
      "application/vnd.jupyter.widget-view+json": {
       "model_id": "aab637d9160041c9a09dfdfa2a52c214",
       "version_major": 2,
       "version_minor": 0
      },
      "text/plain": [
       "interactive(children=(IntText(value=1, description='week'), Dropdown(description='name', options=('td2006_rte'…"
      ]
     },
     "metadata": {},
     "output_type": "display_data"
    },
    {
     "data": {
      "text/plain": [
       "<function complete_model.show_simu(week, name, opti=True)>"
      ]
     },
     "execution_count": 6,
     "metadata": {},
     "output_type": "execute_result"
    }
   ],
   "source": [
    "noms_simu = [\"td2006_rte\", \"td2006_ademe\", \"td2006_nega\"]\n",
    "# Dashboard\n",
    "interactive_plot = interact_manual(show_simu, week=widgets.IntText(value = 1), name = noms_simu, opti=False)\n",
    "interactive_plot"
   ]
  },
  {
   "cell_type": "markdown",
   "id": "d32835af",
   "metadata": {},
   "source": [
    "#### Selon les scénarios de demande : \n",
    "Demande RTE > Demande ADEME > Demande NégaWatt "
   ]
  },
  {
   "cell_type": "markdown",
   "id": "f1fcb586",
   "metadata": {},
   "source": [
    "#### Selon les semaines : \n",
    "En hiver, on a beaucoup d'éolien onshore, on arrive à subvenir à la demande en journée lorsqu'il y a du soleil pour alimenter les panneaux solaires. Lorsqu'il fait nuit on alimente le réseau avec la méthanation, le biogas et les barages.  \n",
    "Au printemps, on a plus de soleil et un peu moins de vent donc on stocke l'énergie solaire en surplus la journée dans les batteries pour alimenter le réseau la nuit. Lorsqu'il y a peu de vent, on utilise l'énergie des barages et des rivières. A l'inverse, on a parfois beaucoup de vent qu'on stocke par méthanation.  \n",
    "En été, c'est le solaire qui alimente fortement le réseau le jour ; la nuit le réseau est alimenté par batteries, les barages ainsi que le rivières.  \n",
    "En automne, on a une configuration similaire à celle en hiver."
   ]
  }
 ],
 "metadata": {
  "kernelspec": {
   "display_name": "Python 3 (ipykernel)",
   "language": "python",
   "name": "python3"
  },
  "language_info": {
   "codemirror_mode": {
    "name": "ipython",
    "version": 3
   },
   "file_extension": ".py",
   "mimetype": "text/x-python",
   "name": "python",
   "nbconvert_exporter": "python",
   "pygments_lexer": "ipython3",
   "version": "3.9.7"
  }
 },
 "nbformat": 4,
 "nbformat_minor": 5
}
