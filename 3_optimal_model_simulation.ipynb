{
 "cells": [
  {
   "cell_type": "markdown",
   "id": "6aad8e0d",
   "metadata": {},
   "source": [
    "# Projet de modélisation d'un mix énergétique issu 100% d'ENR"
   ]
  },
  {
   "cell_type": "markdown",
   "id": "5c0b3b66",
   "metadata": {},
   "source": [
    "## III. Simulations du modèle sur l'optimisation du coût du mix énergétique"
   ]
  },
  {
   "cell_type": "markdown",
   "id": "f8f22417",
   "metadata": {},
   "source": [
    "### Imports"
   ]
  },
  {
   "cell_type": "code",
   "execution_count": 1,
   "id": "8da8a8c5",
   "metadata": {},
   "outputs": [],
   "source": [
    "import numpy as np \n",
    "import pandas as pd\n",
    "import matplotlib.pyplot as plt\n",
    "\n",
    "# Imports pour pyomo\n",
    "import pyomo.environ as pyo\n",
    "from pyomo.opt import SolverFactory\n",
    "\n",
    "from ipywidgets import interactive, interact_manual\n",
    "import ipywidgets as widgets\n",
    "\n",
    "from matplotlib.figure import Figure\n",
    "from matplotlib.backends.backend_agg import FigureCanvas"
   ]
  },
  {
   "cell_type": "markdown",
   "id": "a56afc89",
   "metadata": {},
   "source": [
    "## 1. Utils"
   ]
  },
  {
   "cell_type": "code",
   "execution_count": 2,
   "id": "05f20b8c",
   "metadata": {},
   "outputs": [],
   "source": [
    "col = {\"offshore\" : '#1f4e79', \"onshore\" : '#548235' , \"pv\" : \"#ffc000\", \"phs\" : \"#bdd7ee\", \"battery\" : \"#7030a0\", \"biogas\" :\"#843c0c\", \"methanation\": \"#7f6000\", \"gas\": \"grey\", \"lake\": \"#4169E1\", \"river\" : \"#09F1D3\"}\n",
    "tec = [\"offshore\",\"onshore\",\"pv\",\"river\",\"lake\",\"biogas\",\"phs\",\"battery\",\"methanation\"]\n",
    "stor = [\"phs\",\"battery\",\"methanation\"]"
   ]
  },
  {
   "cell_type": "code",
   "execution_count": 3,
   "id": "8b8087e6",
   "metadata": {},
   "outputs": [],
   "source": [
    "def affichage(simu):\n",
    "    print(\" --- Q ---\")\n",
    "    for i in simu.model.Q:\n",
    "        print(i,\" : \",pyo.value(simu.model.Q[i]))   \n",
    "    print(\" --- S ---\")   \n",
    "    for i in simu.model.S:\n",
    "        print(i,\" : \",pyo.value(simu.model.S[i]))\n",
    "    print(\" --- volume ---\")\n",
    "    for i in simu.model.volume:\n",
    "        print(i,\" : \",pyo.value(simu.model.volume[i]))\n",
    "    print(\" --- cost --- \")\n",
    "    print(simu.cost())"
   ]
  },
  {
   "cell_type": "code",
   "execution_count": 4,
   "id": "57befcf3",
   "metadata": {},
   "outputs": [],
   "source": [
    "# Optimal values found in summary with demand of 2016.txt\n",
    "Volume_str_opti = pd.Series([180 ,74.14, 12499.09], index = stor)\n",
    "S_opti = pd.Series([9.3,20.08, 7.66], index = stor)\n",
    "Q_tec_opti = pd.Series([12.64, 79.73, 121.98, 7.5, 13 ,32.93, 9.3, 20.08, 32.93], index = tec)\n",
    "Cost_opti = 21.84 "
   ]
  },
  {
   "cell_type": "markdown",
   "id": "cf385f70",
   "metadata": {},
   "source": [
    "## 2. Simulation du modèle EOLES"
   ]
  },
  {
   "cell_type": "markdown",
   "id": "95c8d74d",
   "metadata": {},
   "source": [
    "### 2.1. Chois de Q, S et VOLUME"
   ]
  },
  {
   "cell_type": "code",
   "execution_count": 5,
   "id": "cda5d0d9",
   "metadata": {},
   "outputs": [],
   "source": [
    "phs_bounds = {\"Q_lower\":5.2,\"Q_upper\": 9.3, \"S_lower\":4.2, \"S_upper\":9.3, \"Volume_lower\":80.16, \"Volume_upper\":180}\n",
    "vre_upper_bounds = {\"onshore\":120, \"offshore\": 20, \"pv\": 218}"
   ]
  },
  {
   "cell_type": "code",
   "execution_count": 6,
   "id": "c5de9ca0",
   "metadata": {},
   "outputs": [
    {
     "data": {
      "application/vnd.jupyter.widget-view+json": {
       "model_id": "5d2c7fee67a14ecfbb2bc722db3d59a3",
       "version_major": 2,
       "version_minor": 0
      },
      "text/plain": [
       "HBox(children=(VBox(children=(Text(value='Capcité installée (GW)', disabled=True), FloatSlider(value=12.64, de…"
      ]
     },
     "metadata": {},
     "output_type": "display_data"
    }
   ],
   "source": [
    "V = widgets.Text(value='Volume de stockage (GWh)', disabled=True)\n",
    "Volume_phs = widgets.FloatSlider(min=phs_bounds[\"Volume_lower\"], max=phs_bounds[\"Volume_upper\"], step=0.01, description='Volume phs',value = Volume_str_opti[\"phs\"])\n",
    "Volume_methanation = widgets.FloatSlider(min=0, max=Volume_str_opti[\"methanation\"]*5, step=0.01, description='Volume methanation',value = Volume_str_opti[\"methanation\"])\n",
    "Volume_battery =  widgets.FloatSlider(min=0, max=Volume_str_opti[\"battery\"]*5, step=0.01, description='Volume battery',value = Volume_str_opti[\"battery\"])  \n",
    "\n",
    "Q = widgets.Text(value='Capcité installée (GW)', disabled=True)\n",
    "Q_offshore= widgets.FloatSlider(min=0, max=vre_upper_bounds[\"offshore\"], step=0.01, description='Q offshore',value = Q_tec_opti[\"offshore\"])\n",
    "Q_onshore= widgets.FloatSlider(min=0, max=vre_upper_bounds[\"onshore\"], step=0.01, description='Q onshore',value = Q_tec_opti[\"onshore\"])\n",
    "Q_pv= widgets.FloatSlider(min=0, max=vre_upper_bounds[\"pv\"], step=0.1, description='Q pv',value = Q_tec_opti[\"pv\"])\n",
    "Q_river= widgets.FloatSlider(min=0, max=Q_tec_opti[\"river\"], step=0.01, description='Q river',value = Q_tec_opti[\"river\"])\n",
    "Q_lake= widgets.FloatSlider(min=12.855, max=13, step=0.01, description='Q lake',value = Q_tec_opti[\"lake\"])\n",
    "Q_biogas= widgets.FloatSlider(min=0, max=Q_tec_opti[\"biogas\"]*5, step=0.01, description='Q biogas',value = Q_tec_opti[\"biogas\"])\n",
    "Q_phs= widgets.FloatSlider(min=phs_bounds[\"Q_lower\"], max=phs_bounds[\"Q_upper\"], step=0.01, description='Q phs',value = Q_tec_opti[\"phs\"])\n",
    "Q_battery= widgets.FloatSlider(min=0, max=Q_tec_opti[\"battery\"]*5, step=0.01, description='Q battery',value = Q_tec_opti[\"battery\"])\n",
    "Q_methanation= widgets.FloatSlider(min=0, max=Q_tec_opti[\"methanation\"]*5, step=0.01, description='Q methanation',value = Q_tec_opti[\"methanation\"])\n",
    "\n",
    "S = widgets.Text(value='Capacité de charge (GW)', disabled=True)\n",
    "S_phs= widgets.FloatSlider(min=phs_bounds[\"S_lower\"], max=phs_bounds[\"S_upper\"], step=0.01, description='S phs',value = S_opti[\"phs\"])\n",
    "S_methanation = widgets.FloatSlider(min=0, max=S_opti[\"methanation\"]*5, step=0.01, description='S methanation',value = S_opti[\"methanation\"])\n",
    "warn = widgets.Textarea(value='      Attention ! \\n      Volume > Q  et  Volume > S', disabled=True)\n",
    "\n",
    "widgets.HBox([widgets.VBox([Q, Q_offshore, Q_onshore, Q_pv, Q_river, Q_lake,Q_biogas ,Q_phs,Q_battery,Q_methanation]),\n",
    "widgets.VBox([V,Volume_phs,Volume_battery,Volume_methanation, warn]), widgets.VBox([S,S_methanation, S_phs])])"
   ]
  },
  {
   "cell_type": "code",
   "execution_count": 7,
   "id": "484d385b",
   "metadata": {},
   "outputs": [
    {
     "name": "stdout",
     "output_type": "stream",
     "text": [
      "Fixed values : \n",
      "--------- Q ---------\n",
      "offshore        12.64\n",
      "onshore         79.73\n",
      "pv             121.98\n",
      "river            7.50\n",
      "lake            13.00\n",
      "biogas          32.93\n",
      "phs              9.30\n",
      "battery         20.08\n",
      "methanation     32.93\n",
      "dtype: float64\n",
      "-------- VOLUME -------\n",
      "phs              180.00\n",
      "battery           74.14\n",
      "methanation    12499.09\n",
      "dtype: float64\n",
      "--------- S ---------\n",
      "phs             9.30\n",
      "battery        20.08\n",
      "methanation     7.66\n",
      "dtype: float64\n"
     ]
    }
   ],
   "source": [
    "#Valeurs modifiées par les curseurs :\n",
    "Q_tec = [Q_offshore.value, Q_onshore.value, Q_pv.value, Q_river.value, Q_lake.value,Q_biogas.value ,Q_phs.value,Q_battery.value,Q_methanation.value]\n",
    "Volume_str = [Volume_phs.value,Volume_battery.value,Volume_methanation.value]\n",
    "S =  [Q_phs.value,Q_battery.value,S_methanation.value]\n",
    "\n",
    "# Capacity in GW Q\n",
    "Q_tec = pd.Series( Q_tec, index = tec)\n",
    "\n",
    "# Energy volume of storage technology in GWh VOLUME\n",
    "Volume_str = pd.Series(Volume_str, index = stor)\n",
    "\n",
    "#Storage charging power S\n",
    "S = pd.Series(S, index = stor)\n",
    "\n",
    "print(\"Fixed values : \")\n",
    "print(\"--------- Q ---------\")\n",
    "print(Q_tec)\n",
    "print(\"-------- VOLUME -------\")\n",
    "print(Volume_str)\n",
    "print(\"--------- S ---------\")\n",
    "print(S)"
   ]
  },
  {
   "cell_type": "markdown",
   "id": "302c5002",
   "metadata": {},
   "source": [
    "### <span style=\"color:blue\">-------------------------------------------------------------------------------------------------------------------------------------------------------</span>\n",
    "### <span style=\"color:blue\">A exécuter si on n'a pas le dossier Simulations_opti</span>"
   ]
  },
  {
   "cell_type": "markdown",
   "id": "4c18961b",
   "metadata": {},
   "source": [
    "### 2.2 Simulation avec les paramètres optimaux de l'année 2006"
   ]
  },
  {
   "cell_type": "code",
   "execution_count": 8,
   "id": "548a3665",
   "metadata": {},
   "outputs": [],
   "source": [
    "from opti_model import opti_model"
   ]
  },
  {
   "cell_type": "markdown",
   "id": "ea827c85",
   "metadata": {},
   "source": [
    "#### Demande de RTE"
   ]
  },
  {
   "cell_type": "code",
   "execution_count": 9,
   "id": "91def706",
   "metadata": {},
   "outputs": [
    {
     "data": {
      "text/html": [
       "<div>\n",
       "<style scoped>\n",
       "    .dataframe tbody tr th:only-of-type {\n",
       "        vertical-align: middle;\n",
       "    }\n",
       "\n",
       "    .dataframe tbody tr th {\n",
       "        vertical-align: top;\n",
       "    }\n",
       "\n",
       "    .dataframe thead th {\n",
       "        text-align: right;\n",
       "    }\n",
       "</style>\n",
       "<table border=\"1\" class=\"dataframe\">\n",
       "  <thead>\n",
       "    <tr style=\"text-align: right;\">\n",
       "      <th></th>\n",
       "      <th>0</th>\n",
       "      <th>77.1753112996997</th>\n",
       "    </tr>\n",
       "  </thead>\n",
       "  <tbody>\n",
       "    <tr>\n",
       "      <th>0</th>\n",
       "      <td>1</td>\n",
       "      <td>73.642027</td>\n",
       "    </tr>\n",
       "    <tr>\n",
       "      <th>1</th>\n",
       "      <td>2</td>\n",
       "      <td>68.335901</td>\n",
       "    </tr>\n",
       "    <tr>\n",
       "      <th>2</th>\n",
       "      <td>3</td>\n",
       "      <td>66.023141</td>\n",
       "    </tr>\n",
       "    <tr>\n",
       "      <th>3</th>\n",
       "      <td>4</td>\n",
       "      <td>63.549687</td>\n",
       "    </tr>\n",
       "    <tr>\n",
       "      <th>4</th>\n",
       "      <td>5</td>\n",
       "      <td>61.352233</td>\n",
       "    </tr>\n",
       "    <tr>\n",
       "      <th>...</th>\n",
       "      <td>...</td>\n",
       "      <td>...</td>\n",
       "    </tr>\n",
       "    <tr>\n",
       "      <th>8730</th>\n",
       "      <td>8731</td>\n",
       "      <td>79.932693</td>\n",
       "    </tr>\n",
       "    <tr>\n",
       "      <th>8731</th>\n",
       "      <td>8732</td>\n",
       "      <td>82.225989</td>\n",
       "    </tr>\n",
       "    <tr>\n",
       "      <th>8732</th>\n",
       "      <td>8733</td>\n",
       "      <td>80.628026</td>\n",
       "    </tr>\n",
       "    <tr>\n",
       "      <th>8733</th>\n",
       "      <td>8734</td>\n",
       "      <td>77.000773</td>\n",
       "    </tr>\n",
       "    <tr>\n",
       "      <th>8734</th>\n",
       "      <td>8735</td>\n",
       "      <td>75.625643</td>\n",
       "    </tr>\n",
       "  </tbody>\n",
       "</table>\n",
       "<p>8735 rows × 2 columns</p>\n",
       "</div>"
      ],
      "text/plain": [
       "         0  77.1753112996997\n",
       "0        1         73.642027\n",
       "1        2         68.335901\n",
       "2        3         66.023141\n",
       "3        4         63.549687\n",
       "4        5         61.352233\n",
       "...    ...               ...\n",
       "8730  8731         79.932693\n",
       "8731  8732         82.225989\n",
       "8732  8733         80.628026\n",
       "8733  8734         77.000773\n",
       "8734  8735         75.625643\n",
       "\n",
       "[8735 rows x 2 columns]"
      ]
     },
     "execution_count": 9,
     "metadata": {},
     "output_type": "execute_result"
    }
   ],
   "source": [
    "rte = pd.read_csv(\"inputs/demand2050_rte.csv\")\n",
    "rte"
   ]
  },
  {
   "cell_type": "code",
   "execution_count": 10,
   "id": "1523d01b",
   "metadata": {},
   "outputs": [
    {
     "data": {
      "text/html": [
       "<div>\n",
       "<style scoped>\n",
       "    .dataframe tbody tr th:only-of-type {\n",
       "        vertical-align: middle;\n",
       "    }\n",
       "\n",
       "    .dataframe tbody tr th {\n",
       "        vertical-align: top;\n",
       "    }\n",
       "\n",
       "    .dataframe thead th {\n",
       "        text-align: right;\n",
       "    }\n",
       "</style>\n",
       "<table border=\"1\" class=\"dataframe\">\n",
       "  <thead>\n",
       "    <tr style=\"text-align: right;\">\n",
       "      <th></th>\n",
       "      <th>0</th>\n",
       "      <th>27.698363</th>\n",
       "    </tr>\n",
       "  </thead>\n",
       "  <tbody>\n",
       "    <tr>\n",
       "      <th>0</th>\n",
       "      <td>1</td>\n",
       "      <td>26.283084</td>\n",
       "    </tr>\n",
       "    <tr>\n",
       "      <th>1</th>\n",
       "      <td>2</td>\n",
       "      <td>25.100329</td>\n",
       "    </tr>\n",
       "    <tr>\n",
       "      <th>2</th>\n",
       "      <td>3</td>\n",
       "      <td>23.808746</td>\n",
       "    </tr>\n",
       "    <tr>\n",
       "      <th>3</th>\n",
       "      <td>4</td>\n",
       "      <td>22.558374</td>\n",
       "    </tr>\n",
       "    <tr>\n",
       "      <th>4</th>\n",
       "      <td>5</td>\n",
       "      <td>22.404221</td>\n",
       "    </tr>\n",
       "    <tr>\n",
       "      <th>...</th>\n",
       "      <td>...</td>\n",
       "      <td>...</td>\n",
       "    </tr>\n",
       "    <tr>\n",
       "      <th>8754</th>\n",
       "      <td>8755</td>\n",
       "      <td>37.314774</td>\n",
       "    </tr>\n",
       "    <tr>\n",
       "      <th>8755</th>\n",
       "      <td>8756</td>\n",
       "      <td>38.171687</td>\n",
       "    </tr>\n",
       "    <tr>\n",
       "      <th>8756</th>\n",
       "      <td>8757</td>\n",
       "      <td>31.211406</td>\n",
       "    </tr>\n",
       "    <tr>\n",
       "      <th>8757</th>\n",
       "      <td>8758</td>\n",
       "      <td>29.594038</td>\n",
       "    </tr>\n",
       "    <tr>\n",
       "      <th>8758</th>\n",
       "      <td>8759</td>\n",
       "      <td>29.179938</td>\n",
       "    </tr>\n",
       "  </tbody>\n",
       "</table>\n",
       "<p>8759 rows × 2 columns</p>\n",
       "</div>"
      ],
      "text/plain": [
       "         0  27.698363\n",
       "0        1  26.283084\n",
       "1        2  25.100329\n",
       "2        3  23.808746\n",
       "3        4  22.558374\n",
       "4        5  22.404221\n",
       "...    ...        ...\n",
       "8754  8755  37.314774\n",
       "8755  8756  38.171687\n",
       "8756  8757  31.211406\n",
       "8757  8758  29.594038\n",
       "8758  8759  29.179938\n",
       "\n",
       "[8759 rows x 2 columns]"
      ]
     },
     "execution_count": 10,
     "metadata": {},
     "output_type": "execute_result"
    }
   ],
   "source": [
    "ademe = pd.read_csv(\"inputs/demand2050_negawatt.csv\")\n",
    "ademe"
   ]
  },
  {
   "cell_type": "markdown",
   "id": "bd247795",
   "metadata": {},
   "source": [
    "#### Demande de l'ADEME"
   ]
  },
  {
   "cell_type": "code",
   "execution_count": 15,
   "id": "454af4fc",
   "metadata": {},
   "outputs": [
    {
     "name": "stdout",
     "output_type": "stream",
     "text": [
      "Technologies utilisées : ['offshore', 'onshore', 'pv', 'river', 'lake', 'biogas', 'phs', 'battery', 'methanation']\n",
      "Chargement des paramètres ...\n",
      "vre_profiles2006.csv\n",
      "demand2050_ademe.csv\n",
      "Initialisation des sets...\n",
      "Définition des variables à optimiser ...\n",
      "Ajout des contraintes ...\n",
      "Optimisation ...\n",
      "Simulation du modèle faite avec succès ! \n"
     ]
    }
   ],
   "source": [
    "#Run the simulation\n",
    "simu1 = opti_model(Q_tec, Volume_str, S)\n",
    "simu1.load_param(\"inputs/\", \"vre_profiles2006.csv\", \"demand2050_ademe.csv\")\n",
    "simu1.run()"
   ]
  },
  {
   "cell_type": "code",
   "execution_count": 16,
   "id": "81ee477c",
   "metadata": {},
   "outputs": [
    {
     "name": "stdout",
     "output_type": "stream",
     "text": [
      "Ecriture des résultats ...\n"
     ]
    },
    {
     "name": "stderr",
     "output_type": "stream",
     "text": [
      "C:\\Users\\teaca\\anaconda3\\lib\\site-packages\\pandas\\core\\internals\\construction.py:540: VisibleDeprecationWarning: Creating an ndarray from ragged nested sequences (which is a list-or-tuple of lists-or-tuples-or ndarrays with different lengths or shapes) is deprecated. If you meant to do this, you must specify 'dtype=object' when creating the ndarray.\n",
      "  values = np.array([convert(v) for v in values])\n"
     ]
    }
   ],
   "source": [
    "#Write results\n",
    "res1 = simu1.write_results('simu_opti_ademe', \"vre_profiles2006.csv\", \"demand2050_ademe.csv\")"
   ]
  },
  {
   "cell_type": "markdown",
   "id": "1356b663",
   "metadata": {},
   "source": [
    "#### Demande de Négawatt"
   ]
  },
  {
   "cell_type": "code",
   "execution_count": 17,
   "id": "e3af13af",
   "metadata": {},
   "outputs": [
    {
     "name": "stdout",
     "output_type": "stream",
     "text": [
      "Technologies utilisées : ['offshore', 'onshore', 'pv', 'river', 'lake', 'biogas', 'phs', 'battery', 'methanation']\n",
      "Chargement des paramètres ...\n",
      "vre_profiles2006.csv\n",
      "demand2050_negawatt.csv\n",
      "Initialisation des sets...\n",
      "Définition des variables à optimiser ...\n",
      "Ajout des contraintes ...\n",
      "Optimisation ...\n",
      "Simulation du modèle faite avec succès ! \n"
     ]
    }
   ],
   "source": [
    "#Run the simulation\n",
    "simu2 = opti_model(Q_tec, Volume_str, S)\n",
    "simu2.load_param(\"inputs/\", \"vre_profiles2006.csv\", \"demand2050_negawatt.csv\")\n",
    "simu2.run()"
   ]
  },
  {
   "cell_type": "code",
   "execution_count": 18,
   "id": "97165887",
   "metadata": {},
   "outputs": [
    {
     "name": "stdout",
     "output_type": "stream",
     "text": [
      "Ecriture des résultats ...\n"
     ]
    },
    {
     "name": "stderr",
     "output_type": "stream",
     "text": [
      "C:\\Users\\teaca\\anaconda3\\lib\\site-packages\\pandas\\core\\internals\\construction.py:540: VisibleDeprecationWarning: Creating an ndarray from ragged nested sequences (which is a list-or-tuple of lists-or-tuples-or ndarrays with different lengths or shapes) is deprecated. If you meant to do this, you must specify 'dtype=object' when creating the ndarray.\n",
      "  values = np.array([convert(v) for v in values])\n"
     ]
    }
   ],
   "source": [
    "#Write results\n",
    "res2 = simu2.write_results('simu_opti_negawatt', \"vre_profiles2006.csv\", \"demand2050_negawatt.csv\")"
   ]
  },
  {
   "cell_type": "code",
   "execution_count": 19,
   "id": "54268931",
   "metadata": {},
   "outputs": [
    {
     "name": "stdout",
     "output_type": "stream",
     "text": [
      "Technologies utilisées : ['offshore', 'onshore', 'pv', 'river', 'lake', 'biogas', 'phs', 'battery', 'methanation']\n",
      "Chargement des paramètres ...\n",
      "vre_profiles2006.csv\n",
      "demand2006.csv\n",
      "Initialisation des sets...\n",
      "Définition des variables à optimiser ...\n",
      "Ajout des contraintes ...\n",
      "Optimisation ...\n",
      "WARNING: Loading a SolverResults object with a warning status into\n",
      "    model.name=\"unknown\";\n",
      "      - termination condition: infeasible\n",
      "      - message from solver: <undefined>\n",
      "Simulation du modèle faite avec succès ! \n"
     ]
    }
   ],
   "source": [
    "#Run the simulation\n",
    "simu3 = opti_model(Q_tec, Volume_str, S)\n",
    "simu3.load_param(\"inputs/\", \"vre_profiles2006.csv\", \"demand2006.csv\")\n",
    "simu3.run()"
   ]
  },
  {
   "cell_type": "code",
   "execution_count": 20,
   "id": "1a7766f4",
   "metadata": {},
   "outputs": [
    {
     "name": "stdout",
     "output_type": "stream",
     "text": [
      "Ecriture des résultats ...\n"
     ]
    },
    {
     "name": "stderr",
     "output_type": "stream",
     "text": [
      "C:\\Users\\teaca\\OneDrive - insa-toulouse.fr\\Documents\\INSA\\4A\\4A.Stage\\4A.Stage.Codes_ENR\\modele.py:286: RuntimeWarning: divide by zero encountered in double_scalars\n",
      "  c_mwh_produced = c_tot/sumgene\n",
      "C:\\Users\\teaca\\anaconda3\\lib\\site-packages\\pandas\\core\\internals\\construction.py:540: VisibleDeprecationWarning: Creating an ndarray from ragged nested sequences (which is a list-or-tuple of lists-or-tuples-or ndarrays with different lengths or shapes) is deprecated. If you meant to do this, you must specify 'dtype=object' when creating the ndarray.\n",
      "  values = np.array([convert(v) for v in values])\n"
     ]
    }
   ],
   "source": [
    "#Write results\n",
    "res3 = simu3.write_results('simu_opti_d2006', \"vre_profiles2006.csv\", \"demand2006.csv\")"
   ]
  },
  {
   "cell_type": "code",
   "execution_count": 21,
   "id": "4ef89638",
   "metadata": {},
   "outputs": [
    {
     "name": "stdout",
     "output_type": "stream",
     "text": [
      "Technologies utilisées : ['offshore', 'onshore', 'pv', 'river', 'lake', 'biogas', 'phs', 'battery', 'methanation']\n",
      "Chargement des paramètres ...\n",
      "vrenew_typical_days_new_trend_2006.csv\n",
      "demand2006.csv\n",
      "Initialisation des sets...\n",
      "Définition des variables à optimiser ...\n",
      "Ajout des contraintes ...\n",
      "Optimisation ...\n",
      "WARNING: Loading a SolverResults object with a warning status into\n",
      "    model.name=\"unknown\";\n",
      "      - termination condition: infeasible\n",
      "      - message from solver: <undefined>\n",
      "Simulation du modèle faite avec succès ! \n"
     ]
    }
   ],
   "source": [
    "#Run the simulation\n",
    "simu4 = opti_model(Q_tec, Volume_str, S)\n",
    "simu4.load_param(\"inputs/\", \"vrenew_typical_days_new_trend_2006.csv\", \"demand2006.csv\")\n",
    "simu4.run()"
   ]
  },
  {
   "cell_type": "code",
   "execution_count": 22,
   "id": "6f1556c1",
   "metadata": {},
   "outputs": [
    {
     "name": "stdout",
     "output_type": "stream",
     "text": [
      "Ecriture des résultats ...\n"
     ]
    },
    {
     "name": "stderr",
     "output_type": "stream",
     "text": [
      "C:\\Users\\teaca\\OneDrive - insa-toulouse.fr\\Documents\\INSA\\4A\\4A.Stage\\4A.Stage.Codes_ENR\\modele.py:286: RuntimeWarning: divide by zero encountered in double_scalars\n",
      "  c_mwh_produced = c_tot/sumgene\n",
      "C:\\Users\\teaca\\anaconda3\\lib\\site-packages\\pandas\\core\\internals\\construction.py:540: VisibleDeprecationWarning: Creating an ndarray from ragged nested sequences (which is a list-or-tuple of lists-or-tuples-or ndarrays with different lengths or shapes) is deprecated. If you meant to do this, you must specify 'dtype=object' when creating the ndarray.\n",
      "  values = np.array([convert(v) for v in values])\n"
     ]
    }
   ],
   "source": [
    "#Write results\n",
    "res4 = simu4.write_results('simu_opti_td2006_d2006', \"vrenew_typical_days_new_trend_2006.csv\", \"demand2006.csv\")"
   ]
  },
  {
   "cell_type": "code",
   "execution_count": 23,
   "id": "13ca4a47",
   "metadata": {},
   "outputs": [
    {
     "name": "stdout",
     "output_type": "stream",
     "text": [
      "Technologies utilisées : ['offshore', 'onshore', 'pv', 'river', 'lake', 'biogas', 'phs', 'battery', 'methanation']\n",
      "Chargement des paramètres ...\n",
      "vrenew_typical_days_new_trend_2006.csv\n",
      "demand2050_rte.csv\n",
      "Initialisation des sets...\n",
      "Définition des variables à optimiser ...\n",
      "Ajout des contraintes ...\n",
      "Optimisation ...\n",
      "WARNING: Loading a SolverResults object with a warning status into\n",
      "    model.name=\"unknown\";\n",
      "      - termination condition: infeasible\n",
      "      - message from solver: <undefined>\n",
      "Simulation du modèle faite avec succès ! \n"
     ]
    }
   ],
   "source": [
    "#Run the simulation\n",
    "simu5 = opti_model(Q_tec, Volume_str, S)\n",
    "simu5.load_param(\"inputs/\", \"vrenew_typical_days_new_trend_2006.csv\", \"demand2050_rte.csv\")\n",
    "simu5.run()"
   ]
  },
  {
   "cell_type": "code",
   "execution_count": 24,
   "id": "f2ad79be",
   "metadata": {},
   "outputs": [
    {
     "name": "stdout",
     "output_type": "stream",
     "text": [
      "Ecriture des résultats ...\n"
     ]
    },
    {
     "name": "stderr",
     "output_type": "stream",
     "text": [
      "C:\\Users\\teaca\\OneDrive - insa-toulouse.fr\\Documents\\INSA\\4A\\4A.Stage\\4A.Stage.Codes_ENR\\modele.py:286: RuntimeWarning: divide by zero encountered in double_scalars\n",
      "  c_mwh_produced = c_tot/sumgene\n",
      "C:\\Users\\teaca\\anaconda3\\lib\\site-packages\\pandas\\core\\internals\\construction.py:540: VisibleDeprecationWarning: Creating an ndarray from ragged nested sequences (which is a list-or-tuple of lists-or-tuples-or ndarrays with different lengths or shapes) is deprecated. If you meant to do this, you must specify 'dtype=object' when creating the ndarray.\n",
      "  values = np.array([convert(v) for v in values])\n"
     ]
    }
   ],
   "source": [
    "#Write results\n",
    "res5 = simu5.write_results('simu_opti_td2006_rte', \"vrenew_typical_days_new_trend_2006.csv\", \"demand2050_rte.csv\")"
   ]
  },
  {
   "cell_type": "code",
   "execution_count": 25,
   "id": "3d9495f7",
   "metadata": {},
   "outputs": [
    {
     "name": "stdout",
     "output_type": "stream",
     "text": [
      "Technologies utilisées : ['offshore', 'onshore', 'pv', 'river', 'lake', 'biogas', 'phs', 'battery', 'methanation']\n",
      "Chargement des paramètres ...\n",
      "vrenew_typical_days_new_trend_2006.csv\n",
      "demand2050_ademe.csv\n",
      "Initialisation des sets...\n",
      "Définition des variables à optimiser ...\n",
      "Ajout des contraintes ...\n",
      "Optimisation ...\n",
      "Simulation du modèle faite avec succès ! \n"
     ]
    }
   ],
   "source": [
    "#Run the simulation\n",
    "simu6 = opti_model(Q_tec, Volume_str, S)\n",
    "simu6.load_param(\"inputs/\", \"vrenew_typical_days_new_trend_2006.csv\", \"demand2050_ademe.csv\")\n",
    "simu6.run()"
   ]
  },
  {
   "cell_type": "code",
   "execution_count": 26,
   "id": "586068fb",
   "metadata": {},
   "outputs": [
    {
     "name": "stdout",
     "output_type": "stream",
     "text": [
      "Ecriture des résultats ...\n"
     ]
    },
    {
     "name": "stderr",
     "output_type": "stream",
     "text": [
      "C:\\Users\\teaca\\anaconda3\\lib\\site-packages\\pandas\\core\\internals\\construction.py:540: VisibleDeprecationWarning: Creating an ndarray from ragged nested sequences (which is a list-or-tuple of lists-or-tuples-or ndarrays with different lengths or shapes) is deprecated. If you meant to do this, you must specify 'dtype=object' when creating the ndarray.\n",
      "  values = np.array([convert(v) for v in values])\n"
     ]
    }
   ],
   "source": [
    "#Write results\n",
    "res6 = simu6.write_results('simu_opti_td2006_ademe', \"vrenew_typical_days_new_trend_2006.csv\", \"demand2050_ademe.csv\")"
   ]
  },
  {
   "cell_type": "code",
   "execution_count": 27,
   "id": "02e1f906",
   "metadata": {},
   "outputs": [
    {
     "name": "stdout",
     "output_type": "stream",
     "text": [
      "Technologies utilisées : ['offshore', 'onshore', 'pv', 'river', 'lake', 'biogas', 'phs', 'battery', 'methanation']\n",
      "Chargement des paramètres ...\n",
      "vrenew_typical_days_new_trend_2006.csv\n",
      "demand2050_negawatt.csv\n",
      "Initialisation des sets...\n",
      "Définition des variables à optimiser ...\n",
      "Ajout des contraintes ...\n",
      "Optimisation ...\n",
      "Simulation du modèle faite avec succès ! \n"
     ]
    }
   ],
   "source": [
    "#Run the simulation\n",
    "simu7 = opti_model(Q_tec, Volume_str, S)\n",
    "simu7.load_param(\"inputs/\", \"vrenew_typical_days_new_trend_2006.csv\", \"demand2050_negawatt.csv\")\n",
    "simu7.run()"
   ]
  },
  {
   "cell_type": "code",
   "execution_count": 28,
   "id": "9c7fc7c4",
   "metadata": {},
   "outputs": [
    {
     "name": "stdout",
     "output_type": "stream",
     "text": [
      "Ecriture des résultats ...\n"
     ]
    },
    {
     "name": "stderr",
     "output_type": "stream",
     "text": [
      "C:\\Users\\teaca\\anaconda3\\lib\\site-packages\\pandas\\core\\internals\\construction.py:540: VisibleDeprecationWarning: Creating an ndarray from ragged nested sequences (which is a list-or-tuple of lists-or-tuples-or ndarrays with different lengths or shapes) is deprecated. If you meant to do this, you must specify 'dtype=object' when creating the ndarray.\n",
      "  values = np.array([convert(v) for v in values])\n"
     ]
    }
   ],
   "source": [
    "#Write results\n",
    "res7 = simu7.write_results('simu_opti_td2006_negawatt', \"vrenew_typical_days_new_trend_2006.csv\", \"demand2050_negawatt.csv\")"
   ]
  },
  {
   "cell_type": "code",
   "execution_count": 15,
   "id": "110c1211",
   "metadata": {},
   "outputs": [
    {
     "name": "stdout",
     "output_type": "stream",
     "text": [
      "Technologies utilisées : ['offshore', 'onshore', 'pv', 'river', 'lake', 'biogas', 'phs', 'battery', 'methanation']\n",
      "Chargement des paramètres ...\n",
      "vrenew_typical_days_new_trend_2014.csv\n",
      "demand2050_rte.csv\n",
      "Initialisation des sets...\n",
      "Définition des variables à optimiser ...\n",
      "Ajout des contraintes ...\n",
      "Optimisation ...\n",
      "WARNING: Loading a SolverResults object with a warning status into\n",
      "    model.name=\"unknown\";\n",
      "      - termination condition: infeasible\n",
      "      - message from solver: <undefined>\n",
      "Simulation du modèle faite avec succès ! \n"
     ]
    }
   ],
   "source": [
    "#Run the simulation\n",
    "simu8 = opti_model(Q_tec, Volume_str, S)\n",
    "simu8.load_param(\"inputs/\", \"vrenew_typical_days_new_trend_2014.csv\", \"demand2050_rte.csv\")\n",
    "simu8.run()"
   ]
  },
  {
   "cell_type": "code",
   "execution_count": 17,
   "id": "90787639",
   "metadata": {},
   "outputs": [
    {
     "name": "stdout",
     "output_type": "stream",
     "text": [
      "Ecriture des résultats ...\n"
     ]
    },
    {
     "name": "stderr",
     "output_type": "stream",
     "text": [
      "C:\\Users\\teaca\\OneDrive - insa-toulouse.fr\\Documents\\INSA\\4A\\4A.Stage\\4A.Stage.Codes_ENR\\opti_model.py:286: RuntimeWarning: divide by zero encountered in double_scalars\n",
      "  c_mwh_produced = c_tot/sumgene\n",
      "C:\\Users\\teaca\\anaconda3\\lib\\site-packages\\pandas\\core\\internals\\construction.py:540: VisibleDeprecationWarning: Creating an ndarray from ragged nested sequences (which is a list-or-tuple of lists-or-tuples-or ndarrays with different lengths or shapes) is deprecated. If you meant to do this, you must specify 'dtype=object' when creating the ndarray.\n",
      "  values = np.array([convert(v) for v in values])\n"
     ]
    }
   ],
   "source": [
    "#Write results\n",
    "res8 = simu8.write_results('simu_opti_td2014_rte', \"vrenew_typical_days_new_trend_2014.csv\", \"demand2050_rte.csv\")"
   ]
  },
  {
   "cell_type": "markdown",
   "id": "83b8750f",
   "metadata": {},
   "source": [
    "### <span style=\"color:blue\">-------------------------------------------------------------------------------------------------------------------------------------------------------</span>"
   ]
  },
  {
   "cell_type": "markdown",
   "id": "3fdd8677",
   "metadata": {},
   "source": [
    "### 2.3 Analyse des résultats"
   ]
  },
  {
   "cell_type": "code",
   "execution_count": 3,
   "id": "de9e931f",
   "metadata": {},
   "outputs": [],
   "source": [
    "from opti_model import show_simu"
   ]
  },
  {
   "cell_type": "markdown",
   "id": "372066ae",
   "metadata": {},
   "source": [
    "##### Composition du mix énergétique en fonction de la demande : ADEME ou NégaWatt"
   ]
  },
  {
   "cell_type": "code",
   "execution_count": 4,
   "id": "39d3cc8c",
   "metadata": {},
   "outputs": [
    {
     "data": {
      "application/vnd.jupyter.widget-view+json": {
       "model_id": "191754b884be4880b6c3a830b90b9af2",
       "version_major": 2,
       "version_minor": 0
      },
      "text/plain": [
       "interactive(children=(IntText(value=1, description='week'), Dropdown(description='name', options=('ademe', 'ne…"
      ]
     },
     "metadata": {},
     "output_type": "display_data"
    },
    {
     "data": {
      "text/plain": [
       "<function opti_model.show_simu(week, name, opti=True)>"
      ]
     },
     "execution_count": 4,
     "metadata": {},
     "output_type": "execute_result"
    }
   ],
   "source": [
    "noms_simu = [\"ademe\", \"negawatt\",\"rte\"]\n",
    "# Dashboard\n",
    "interactive_plot = interact_manual(show_simu, week=widgets.IntText(value = 1), name = noms_simu)\n",
    "interactive_plot"
   ]
  },
  {
   "cell_type": "markdown",
   "id": "4cfceef5",
   "metadata": {},
   "source": [
    "L'été on stocke l'énergie solaire en surplus la journée pour alimenter le réseau la nuit par PHS et batteries : court terme. On utilise également l'électricité générée par les barages.  \n",
    "L'hiver, l'énergie solaire est moins présente, on génère de l'électricité avec l'éolien et on utilise massivement le stockage par méthanation : long terme. "
   ]
  }
 ],
 "metadata": {
  "kernelspec": {
   "display_name": "Python 3 (ipykernel)",
   "language": "python",
   "name": "python3"
  },
  "language_info": {
   "codemirror_mode": {
    "name": "ipython",
    "version": 3
   },
   "file_extension": ".py",
   "mimetype": "text/x-python",
   "name": "python",
   "nbconvert_exporter": "python",
   "pygments_lexer": "ipython3",
   "version": "3.9.7"
  }
 },
 "nbformat": 4,
 "nbformat_minor": 5
}
